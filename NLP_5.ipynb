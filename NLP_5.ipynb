{
 "cells": [
  {
   "cell_type": "code",
   "execution_count": 7,
   "metadata": {
    "colab": {
     "base_uri": "https://localhost:8080/"
    },
    "id": "q-VSUWeAbscZ",
    "outputId": "1d660afe-e888-40f5-a598-914c1fc5a1b9"
   },
   "outputs": [
    {
     "name": "stdout",
     "output_type": "stream",
     "text": [
      "Collecting pyspellchecker\n",
      "  Downloading pyspellchecker-0.8.1-py3-none-any.whl (6.8 MB)\n",
      "                                              0.0/6.8 MB ? eta -:--:--\n",
      "                                              0.0/6.8 MB ? eta -:--:--\n",
      "                                              0.1/6.8 MB 812.7 kB/s eta 0:00:09\n",
      "                                              0.1/6.8 MB 1.2 MB/s eta 0:00:06\n",
      "     -                                        0.3/6.8 MB 2.1 MB/s eta 0:00:04\n",
      "     ---                                      0.7/6.8 MB 3.4 MB/s eta 0:00:02\n",
      "     --------                                 1.4/6.8 MB 5.5 MB/s eta 0:00:01\n",
      "     ---------                                1.6/6.8 MB 5.3 MB/s eta 0:00:01\n",
      "     -----------                              1.9/6.8 MB 6.1 MB/s eta 0:00:01\n",
      "     -------------                            2.3/6.8 MB 6.2 MB/s eta 0:00:01\n",
      "     ---------------------                    3.6/6.8 MB 8.6 MB/s eta 0:00:01\n",
      "     ---------------------                    3.6/6.8 MB 8.6 MB/s eta 0:00:01\n",
      "     ----------------------------             4.8/6.8 MB 9.3 MB/s eta 0:00:01\n",
      "     ----------------------------------       5.9/6.8 MB 10.2 MB/s eta 0:00:01\n",
      "     ---------------------------------------- 6.8/6.8 MB 11.1 MB/s eta 0:00:00\n",
      "Installing collected packages: pyspellchecker\n",
      "Successfully installed pyspellchecker-0.8.1\n",
      "Collecting autocorrect\n",
      "  Downloading autocorrect-2.6.1.tar.gz (622 kB)\n",
      "                                              0.0/622.8 kB ? eta -:--:--\n",
      "                                              10.2/622.8 kB ? eta -:--:--\n",
      "     --                                    41.0/622.8 kB 653.6 kB/s eta 0:00:01\n",
      "     -------                                122.9/622.8 kB 1.0 MB/s eta 0:00:01\n",
      "     -----------------                      286.7/622.8 kB 1.8 MB/s eta 0:00:01\n",
      "     -------------------------------------  614.4/622.8 kB 3.0 MB/s eta 0:00:01\n",
      "     -------------------------------------- 622.8/622.8 kB 3.0 MB/s eta 0:00:00\n",
      "  Preparing metadata (setup.py): started\n",
      "  Preparing metadata (setup.py): finished with status 'done'\n",
      "Building wheels for collected packages: autocorrect\n",
      "  Building wheel for autocorrect (setup.py): started\n",
      "  Building wheel for autocorrect (setup.py): finished with status 'done'\n",
      "  Created wheel for autocorrect: filename=autocorrect-2.6.1-py3-none-any.whl size=622374 sha256=19c4bab0ea63c0ad728b7419e9b8b1b57a72a9bbc8db56d87dbcc96a73aa7cee\n",
      "  Stored in directory: c:\\users\\glows\\appdata\\local\\pip\\cache\\wheels\\5e\\90\\99\\807a5ad861ce5d22c3c299a11df8cba9f31524f23ae6e645cb\n",
      "Successfully built autocorrect\n",
      "Installing collected packages: autocorrect\n",
      "Successfully installed autocorrect-2.6.1\n",
      "Collecting emot\n",
      "  Downloading emot-3.1-py3-none-any.whl (61 kB)\n",
      "                                              0.0/61.5 kB ? eta -:--:--\n",
      "     ------------                           20.5/61.5 kB 320.0 kB/s eta 0:00:01\n",
      "     -------------------------------------  61.4/61.5 kB 656.4 kB/s eta 0:00:01\n",
      "     -------------------------------------- 61.5/61.5 kB 544.9 kB/s eta 0:00:00\n",
      "Installing collected packages: emot\n",
      "Successfully installed emot-3.1\n"
     ]
    }
   ],
   "source": [
    "# !pip install xgboost\n",
    "# !pip install pyspellchecker\n",
    "# !pip install autocorrect\n",
    "# !pip install emot"
   ]
  },
  {
   "cell_type": "markdown",
   "metadata": {
    "id": "nO-ul8Ael4gk"
   },
   "source": [
    "# **Import Reuired Libraries:**"
   ]
  },
  {
   "cell_type": "code",
   "execution_count": 1,
   "metadata": {
    "id": "qTX-NPQgbisV"
   },
   "outputs": [],
   "source": [
    "import numpy as np\n",
    "import pandas as pd\n",
    "\n",
    "import seaborn as sns\n",
    "import matplotlib.pyplot as plt\n",
    "\n",
    "from sklearn.model_selection import train_test_split\n",
    "from sklearn.metrics import accuracy_score, classification_report\n",
    "from sklearn.metrics import confusion_matrix\n",
    "\n",
    "from sklearn.preprocessing import LabelEncoder\n",
    "\n",
    "from sklearn.feature_extraction.text import CountVectorizer\n",
    "\n",
    "\n",
    "from sklearn.linear_model import LogisticRegression\n",
    "from sklearn.svm import SVC\n",
    "from sklearn.naive_bayes import MultinomialNB\n",
    "from sklearn.tree import DecisionTreeClassifier\n",
    "from sklearn.ensemble import RandomForestClassifier\n",
    "from sklearn.ensemble import GradientBoostingClassifier\n",
    "from sklearn.neighbors import KNeighborsClassifier\n",
    "import xgboost as xgb\n",
    "\n",
    "\n",
    "import csv\n",
    "import re\n",
    "\n",
    "import nltk\n",
    "from nltk.corpus import stopwords\n",
    "\n",
    "from nltk.tokenize import word_tokenize\n",
    "\n",
    "from textblob import TextBlob\n",
    "from spellchecker import SpellChecker\n",
    "from autocorrect import Speller\n",
    "\n",
    "import emot\n",
    "\n",
    "import itertools\n",
    "\n",
    "from nltk.stem import WordNetLemmatizer"
   ]
  },
  {
   "cell_type": "code",
   "execution_count": 2,
   "metadata": {},
   "outputs": [],
   "source": [
    "# Set random seed for NumPy\n",
    "np.random.seed(42)"
   ]
  },
  {
   "cell_type": "markdown",
   "metadata": {
    "id": "TAQ9Q7X0mC-R"
   },
   "source": [
    "# **Load Dataset:**"
   ]
  },
  {
   "cell_type": "code",
   "execution_count": 3,
   "metadata": {
    "colab": {
     "base_uri": "https://localhost:8080/",
     "height": 372
    },
    "id": "9Tuf5a6Gbqo5",
    "outputId": "cf9906a5-265e-4b12-cd4c-15acd1553d46"
   },
   "outputs": [
    {
     "name": "stdout",
     "output_type": "stream",
     "text": [
      "Success\n",
      "DataFrame loaded successfully with 50000 rows and 2 columns.\n"
     ]
    }
   ],
   "source": [
    "file_path = r\"C:\\Users\\glows\\Downloads\\Github Projects\\IMDB Dataset.csv\"\n",
    "chunk_size = 10000\n",
    "chunks = []\n",
    "\n",
    "try:\n",
    "    reader = pd.read_csv(file_path, encoding='utf-8', engine='python', chunksize=chunk_size)\n",
    "    for chunk in reader:\n",
    "        try:\n",
    "            chunks.append(chunk)\n",
    "        except pd.errors.ParserError as e:\n",
    "            print(f\"ParserError while processing a chunk: {e}\")\n",
    "except pd.errors.ParserError as e:\n",
    "    print(f\"ParserError: {e}\")\n",
    "    dataset = None\n",
    "\n",
    "if chunks:\n",
    "    dataset = pd.concat(chunks, ignore_index=True)\n",
    "    print('Success')\n",
    "else:\n",
    "    dataset = None\n",
    "\n",
    "if dataset is not None:\n",
    "    print(f\"DataFrame loaded successfully with {dataset.shape[0]} rows and {dataset.shape[1]} columns.\")\n",
    "else:\n",
    "    print(\"Failed to load DataFrame.\")"
   ]
  },
  {
   "cell_type": "code",
   "execution_count": 4,
   "metadata": {},
   "outputs": [
    {
     "data": {
      "text/html": [
       "<div>\n",
       "<style scoped>\n",
       "    .dataframe tbody tr th:only-of-type {\n",
       "        vertical-align: middle;\n",
       "    }\n",
       "\n",
       "    .dataframe tbody tr th {\n",
       "        vertical-align: top;\n",
       "    }\n",
       "\n",
       "    .dataframe thead th {\n",
       "        text-align: right;\n",
       "    }\n",
       "</style>\n",
       "<table border=\"1\" class=\"dataframe\">\n",
       "  <thead>\n",
       "    <tr style=\"text-align: right;\">\n",
       "      <th></th>\n",
       "      <th>review</th>\n",
       "      <th>sentiment</th>\n",
       "    </tr>\n",
       "  </thead>\n",
       "  <tbody>\n",
       "    <tr>\n",
       "      <th>0</th>\n",
       "      <td>One of the other reviewers has mentioned that ...</td>\n",
       "      <td>positive</td>\n",
       "    </tr>\n",
       "    <tr>\n",
       "      <th>1</th>\n",
       "      <td>A wonderful little production. &lt;br /&gt;&lt;br /&gt;The...</td>\n",
       "      <td>positive</td>\n",
       "    </tr>\n",
       "    <tr>\n",
       "      <th>2</th>\n",
       "      <td>I thought this was a wonderful way to spend ti...</td>\n",
       "      <td>positive</td>\n",
       "    </tr>\n",
       "    <tr>\n",
       "      <th>3</th>\n",
       "      <td>Basically there's a family where a little boy ...</td>\n",
       "      <td>negative</td>\n",
       "    </tr>\n",
       "    <tr>\n",
       "      <th>4</th>\n",
       "      <td>Petter Mattei's \"Love in the Time of Money\" is...</td>\n",
       "      <td>positive</td>\n",
       "    </tr>\n",
       "    <tr>\n",
       "      <th>5</th>\n",
       "      <td>Probably my all-time favorite movie, a story o...</td>\n",
       "      <td>positive</td>\n",
       "    </tr>\n",
       "    <tr>\n",
       "      <th>6</th>\n",
       "      <td>I sure would like to see a resurrection of a u...</td>\n",
       "      <td>positive</td>\n",
       "    </tr>\n",
       "    <tr>\n",
       "      <th>7</th>\n",
       "      <td>This show was an amazing, fresh &amp; innovative i...</td>\n",
       "      <td>negative</td>\n",
       "    </tr>\n",
       "    <tr>\n",
       "      <th>8</th>\n",
       "      <td>Encouraged by the positive comments about this...</td>\n",
       "      <td>negative</td>\n",
       "    </tr>\n",
       "    <tr>\n",
       "      <th>9</th>\n",
       "      <td>If you like original gut wrenching laughter yo...</td>\n",
       "      <td>positive</td>\n",
       "    </tr>\n",
       "  </tbody>\n",
       "</table>\n",
       "</div>"
      ],
      "text/plain": [
       "                                              review sentiment\n",
       "0  One of the other reviewers has mentioned that ...  positive\n",
       "1  A wonderful little production. <br /><br />The...  positive\n",
       "2  I thought this was a wonderful way to spend ti...  positive\n",
       "3  Basically there's a family where a little boy ...  negative\n",
       "4  Petter Mattei's \"Love in the Time of Money\" is...  positive\n",
       "5  Probably my all-time favorite movie, a story o...  positive\n",
       "6  I sure would like to see a resurrection of a u...  positive\n",
       "7  This show was an amazing, fresh & innovative i...  negative\n",
       "8  Encouraged by the positive comments about this...  negative\n",
       "9  If you like original gut wrenching laughter yo...  positive"
      ]
     },
     "execution_count": 4,
     "metadata": {},
     "output_type": "execute_result"
    }
   ],
   "source": [
    "dataset.head(10)"
   ]
  },
  {
   "cell_type": "code",
   "execution_count": 9,
   "metadata": {},
   "outputs": [
    {
     "name": "stdout",
     "output_type": "stream",
     "text": [
      "Size of Dataset: 250 rows and 2 columns.\n"
     ]
    }
   ],
   "source": [
    "# Specify the fraction of the dataset you want to use (e.g., 0.1 for 10%)\n",
    "fraction = 0.005\n",
    "\n",
    "# Create a subset of the dataset\n",
    "dataset_subset = dataset.sample(frac=fraction, random_state=42)\n",
    "\n",
    "# Reset the index of the subset DataFrame\n",
    "dataset_subset = dataset_subset.reset_index(drop=True)\n",
    "\n",
    "print(f\"Size of Dataset: {dataset_subset.shape[0]} rows and {dataset_subset.shape[1]} columns.\")"
   ]
  },
  {
   "cell_type": "markdown",
   "metadata": {
    "id": "A4qpamKLoc8R"
   },
   "source": [
    "# **Text Preprocessing:**\n",
    "- Lower casing\n",
    "- Removal of emojis\n",
    "- Removal of emoticons\n",
    "- Removal of URLs\n",
    "- Removal of Emails\n",
    "- Removal of HTML tags\n",
    "- Removal of Non-Ascii Characters\n",
    "- Removal of Punctuations & Special Characters\n",
    "- Removal of Numbers\n",
    "- Removal of Chat Words\n",
    "- Removal of Stopwords\n",
    "- Spelling Correction\n",
    "- Lemmatization\n"
   ]
  },
  {
   "cell_type": "markdown",
   "metadata": {
    "id": "tPn9EtH8iQTh"
   },
   "source": [
    "### **Lowercase Text Function**"
   ]
  },
  {
   "cell_type": "code",
   "execution_count": 10,
   "metadata": {
    "id": "Khazd6YvfU5v"
   },
   "outputs": [],
   "source": [
    "def lowercase_text(text):\n",
    "    \"\"\"\n",
    "    Convert text to lowercase.\n",
    "\n",
    "    Args:\n",
    "    - text (str): The text to convert.\n",
    "\n",
    "    Returns:\n",
    "    - str: The text converted to lowercase.\n",
    "    \"\"\"\n",
    "    return text.lower()"
   ]
  },
  {
   "cell_type": "code",
   "execution_count": 11,
   "metadata": {
    "id": "npPNTtxBhXHk"
   },
   "outputs": [
    {
     "name": "stdout",
     "output_type": "stream",
     "text": [
      "Sample review text: \n",
      "\n"
     ]
    },
    {
     "data": {
      "text/plain": [
       "\"One of the other reviewers has mentioned that after watching just 1 Oz episode you'll be hooked. They are right, as this is exactly what happened with me.<br /><br />The first thing that struck me about Oz was its brutality and unflinching scenes of violence, which set in right from the word GO. Trust me, this is not a show for the faint hearted or timid. This show pulls no punches with regards to drugs, sex or violence. Its is hardcore, in the classic use of the word.<br /><br />It is called OZ as that is the nickname given to the Oswald Maximum Security State Penitentary. It focuses mainly on Emerald City, an experimental section of the prison where all the cells have glass fronts and face inwards, so privacy is not high on the agenda. Em City is home to many..Aryans, Muslims, gangstas, Latinos, Christians, Italians, Irish and more....so scuffles, death stares, dodgy dealings and shady agreements are never far away.<br /><br />I would say the main appeal of the show is due to the fact that it goes where other shows wouldn't dare. Forget pretty pictures painted for mainstream audiences, forget charm, forget romance...OZ doesn't mess around. The first episode I ever saw struck me as so nasty it was surreal, I couldn't say I was ready for it, but as I watched more, I developed a taste for Oz, and got accustomed to the high levels of graphic violence. Not just violence, but injustice (crooked guards who'll be sold out for a nickel, inmates who'll kill on order and get away with it, well mannered, middle class inmates being turned into prison bitches due to their lack of street skills or prison experience) Watching Oz, you may become comfortable with what is uncomfortable viewing....thats if you can get in touch with your darker side.\""
      ]
     },
     "execution_count": 11,
     "metadata": {},
     "output_type": "execute_result"
    }
   ],
   "source": [
    "sample_text = dataset['review'][0]\n",
    "\n",
    "print(\"Sample review text: \\n\")\n",
    "sample_text"
   ]
  },
  {
   "cell_type": "code",
   "execution_count": 12,
   "metadata": {
    "id": "76osUGp3hY6D"
   },
   "outputs": [
    {
     "name": "stdout",
     "output_type": "stream",
     "text": [
      "Cleaned sample review text: \n",
      "\n"
     ]
    },
    {
     "data": {
      "text/plain": [
       "\"one of the other reviewers has mentioned that after watching just 1 oz episode you'll be hooked. they are right, as this is exactly what happened with me.<br /><br />the first thing that struck me about oz was its brutality and unflinching scenes of violence, which set in right from the word go. trust me, this is not a show for the faint hearted or timid. this show pulls no punches with regards to drugs, sex or violence. its is hardcore, in the classic use of the word.<br /><br />it is called oz as that is the nickname given to the oswald maximum security state penitentary. it focuses mainly on emerald city, an experimental section of the prison where all the cells have glass fronts and face inwards, so privacy is not high on the agenda. em city is home to many..aryans, muslims, gangstas, latinos, christians, italians, irish and more....so scuffles, death stares, dodgy dealings and shady agreements are never far away.<br /><br />i would say the main appeal of the show is due to the fact that it goes where other shows wouldn't dare. forget pretty pictures painted for mainstream audiences, forget charm, forget romance...oz doesn't mess around. the first episode i ever saw struck me as so nasty it was surreal, i couldn't say i was ready for it, but as i watched more, i developed a taste for oz, and got accustomed to the high levels of graphic violence. not just violence, but injustice (crooked guards who'll be sold out for a nickel, inmates who'll kill on order and get away with it, well mannered, middle class inmates being turned into prison bitches due to their lack of street skills or prison experience) watching oz, you may become comfortable with what is uncomfortable viewing....thats if you can get in touch with your darker side.\""
      ]
     },
     "execution_count": 12,
     "metadata": {},
     "output_type": "execute_result"
    }
   ],
   "source": [
    "sample_text = lowercase_text(sample_text)\n",
    "\n",
    "print(\"Cleaned sample review text: \\n\")\n",
    "sample_text"
   ]
  },
  {
   "cell_type": "markdown",
   "metadata": {
    "id": "IIdOsbBqibyv"
   },
   "source": [
    "### **Remove Emojis Function**"
   ]
  },
  {
   "cell_type": "code",
   "execution_count": 13,
   "metadata": {
    "id": "by4fogx-hfrC"
   },
   "outputs": [],
   "source": [
    "def remove_emojis(text):\n",
    "    \"\"\"\n",
    "    Remove all emojis from the given text.\n",
    "\n",
    "    Args:\n",
    "    - text (str): The text to process.\n",
    "\n",
    "    Returns:\n",
    "    - str: The text with all emojis removed.\n",
    "    \"\"\"\n",
    "    emot_obj = emot.core.emot()\n",
    "\n",
    "    # Detect emojis in the text\n",
    "    emoji_data = emot_obj.emoji(text)\n",
    "    for emoji in emoji_data['value']:\n",
    "        text = text.replace(emoji, '')\n",
    "\n",
    "    # Remove any extra spaces that might have been left behind\n",
    "    text = re.sub(r'\\s+', ' ', text).strip()\n",
    "\n",
    "    return text"
   ]
  },
  {
   "cell_type": "code",
   "execution_count": 14,
   "metadata": {
    "id": "OAVGD3oUi59u"
   },
   "outputs": [
    {
     "name": "stdout",
     "output_type": "stream",
     "text": [
      "Sample review text: \n",
      "\n"
     ]
    },
    {
     "data": {
      "text/plain": [
       "'I checked this movie out based on a favorable review on this page. It is slow moving and the payoff is a four star dud..The only mystery here is how Oscar® winner F. Murray Abraham got involved with such a lousy script!'"
      ]
     },
     "execution_count": 14,
     "metadata": {},
     "output_type": "execute_result"
    }
   ],
   "source": [
    "sample_text = dataset['review'][13735]\n",
    "\n",
    "print(\"Sample review text: \\n\")\n",
    "sample_text"
   ]
  },
  {
   "cell_type": "code",
   "execution_count": 15,
   "metadata": {
    "id": "iM3ea4CHi6D8"
   },
   "outputs": [
    {
     "name": "stdout",
     "output_type": "stream",
     "text": [
      "Cleaned sample review text: \n",
      "\n"
     ]
    },
    {
     "data": {
      "text/plain": [
       "'I checked this movie out based on a favorable review on this page. It is slow moving and the payoff is a four star dud..The only mystery here is how Oscar winner F. Murray Abraham got involved with such a lousy script!'"
      ]
     },
     "execution_count": 15,
     "metadata": {},
     "output_type": "execute_result"
    }
   ],
   "source": [
    "sample_text = remove_emojis(sample_text)\n",
    "\n",
    "print(\"Cleaned sample review text: \\n\")\n",
    "sample_text"
   ]
  },
  {
   "cell_type": "markdown",
   "metadata": {
    "id": "_BAM7ivQj6Zz"
   },
   "source": [
    "### **Remove Emoticons Function**"
   ]
  },
  {
   "cell_type": "code",
   "execution_count": 16,
   "metadata": {
    "id": "pdbJoWJrj49L"
   },
   "outputs": [],
   "source": [
    "def remove_emoticons(text):\n",
    "    \"\"\"\n",
    "    Remove all emoticons from the given text.\n",
    "\n",
    "    Args:\n",
    "    - text (str): The text to process.\n",
    "\n",
    "    Returns:\n",
    "    - str: The text with all emoticons removed.\n",
    "    \"\"\"\n",
    "    emot_obj = emot.core.emot()\n",
    "\n",
    "\n",
    "    # Detect emoticons in the text\n",
    "    emoticon_data = emot_obj.emoticons(text)\n",
    "    for emoticon in emoticon_data['value']:\n",
    "        text = text.replace(emoticon, '')\n",
    "\n",
    "    # Remove any extra spaces that might have been left behind\n",
    "    text = re.sub(r'\\s+', ' ', text).strip()\n",
    "\n",
    "    return text"
   ]
  },
  {
   "cell_type": "code",
   "execution_count": 17,
   "metadata": {
    "id": "Aft0tHMoj49V"
   },
   "outputs": [
    {
     "name": "stdout",
     "output_type": "stream",
     "text": [
      "Sample review text: \n",
      "\n"
     ]
    },
    {
     "data": {
      "text/plain": [
       "\"As a disclaimer, I've seen the movie 5-6 times in the last 15 years, and I only just saw the musical this week. This allowed me to judge the movie without being tainted by what was or wasn't in the musical (however, it tainted me when I watched the musical :) ) <br /><br />I actually believe Michael Douglas worked quite well in that role, along with Kasey. I think her 'Let me dance for you scene' is one of the best parts of the movie, a worthwhile addition compared to the musical. The dancers and singing in the movie are much superior to the musical, as well as the cast which is at least 10 times bigger (easier to do in the movie of course). The decors, lighting, dancing, and singing are also much superior in the movie, which should be expected, and was indeed delivered. <br /><br />The songs that were in common with the musical are better done in the movie, the new ones are quite good ones, and the whole movie just delivers more than the musical in my opinion, especially compared to a musical which has few decors. The one bad point on the movie is the obvious cuts between the actors talking, and dubbed singers during the singing portions for some of the characters, but their dancing is impeccable, and the end product was more enjoyable than the musical\""
      ]
     },
     "execution_count": 17,
     "metadata": {},
     "output_type": "execute_result"
    }
   ],
   "source": [
    "sample_text = dataset['review'][45]\n",
    "\n",
    "print(\"Sample review text: \\n\")\n",
    "sample_text"
   ]
  },
  {
   "cell_type": "code",
   "execution_count": 18,
   "metadata": {
    "id": "gu3x_zXsj49W"
   },
   "outputs": [
    {
     "name": "stdout",
     "output_type": "stream",
     "text": [
      "Cleaned sample review text: \n",
      "\n"
     ]
    },
    {
     "data": {
      "text/plain": [
       "\"As a disclaimer, I've seen the movie 5-6 times in the last 15 years, and I only just saw the musical this week. This allowed me to judge the movie without being tainted by what was or wasn't in the musical (however, it tainted me when I watched the musical ) <br /><br />I actually believe Michael Douglas worked quite well in that role, along with Kasey. I think her 'Let me dance for you scene' is one of the best parts of the movie, a worthwhile addition compared to the musical. The dancers and singing in the movie are much superior to the musical, as well as the cast which is at least 10 times bigger (easier to do in the movie of course). The decors, lighting, dancing, and singing are also much superior in the movie, which should be expected, and was indeed delivered. <br /><br />The songs that were in common with the musical are better done in the movie, the new ones are quite good ones, and the whole movie just delivers more than the musical in my opinion, especially compared to a musical which has few decors. The one bad point on the movie is the obvious cuts between the actors talking, and dubbed singers during the singing portions for some of the characters, but their dancing is impeccable, and the end product was more enjoyable than the musical\""
      ]
     },
     "execution_count": 18,
     "metadata": {},
     "output_type": "execute_result"
    }
   ],
   "source": [
    "sample_text = remove_emoticons(sample_text)\n",
    "\n",
    "print(\"Cleaned sample review text: \\n\")\n",
    "sample_text"
   ]
  },
  {
   "cell_type": "markdown",
   "metadata": {
    "id": "cliW8dYskTt4"
   },
   "source": [
    "### **Remove URLs Function**"
   ]
  },
  {
   "cell_type": "code",
   "execution_count": 19,
   "metadata": {
    "id": "wCezILMrkGhx"
   },
   "outputs": [],
   "source": [
    "def remove_urls(text):\n",
    "    \"\"\"\n",
    "    Remove URLs from text.\n",
    "\n",
    "    Args:\n",
    "    - text (str): The text to remove URLs from.\n",
    "\n",
    "    Returns:\n",
    "    - str: The text with URLs removed.\n",
    "    \"\"\"\n",
    "    return re.sub(r'http[s]?://\\S+', ' ', text)"
   ]
  },
  {
   "cell_type": "code",
   "execution_count": 20,
   "metadata": {
    "id": "jj3sf62Rkagv"
   },
   "outputs": [
    {
     "name": "stdout",
     "output_type": "stream",
     "text": [
      "Sample review text: \n",
      "\n"
     ]
    },
    {
     "data": {
      "text/plain": [
       "\"Following directly from where the story left off in part one, the second half which sets about telling the inevitable downfall and much more grim side of the man's legacy is exactly as such. In direct contrast to the first feature, part two represents a shift from Che the pride and glory of a revolutionised country, to Che\\x97struggling liberator of a country to which he has no previous ties. The change of setting isn't just aesthetic; from the autumn and spring greys of the woodlands comes a change of tone and heart to the feature, replacing the optimism of the predecessor with a cynical, battered and bruised reality aligned to an all new struggle. Yet, as Che would go on to say himself\\x97such a struggle is best told exactly as that\\x97a struggle. While Part One certainly helped document that initial surge to power that the revolutionary guerrilla acquired through just that, Part Two takes a much more refined, callous and bleak segment of Che's life and ambition, and gives it an assertive portrayal that is both poignant and tragic in a tangible, easy to grasp manner.<br /><br />While the movie's tone in some regards does stray off and differ quite drastically from Part One however, there still remains that same documented approach taken a month ago that avoids melodrama and fabrication as much as possible. This somewhat distant, cold approach to telling Che's story and struggle will no doubt turn some viewers off; indeed, I still remain reserved about whether or not the feature itself should have been named after one man\\x97if anything, the entirety of Che, taken as a whole, delivers a tale that goes beyond mere biography and instead documents a man's struggle alongside those who helped carry him along the way. By no means does Soderbergh try to paint a humanistic portrait here akin to what Hirschbiegel did with Der Untergang half a decade ago (excuse the ironic contrast); Che is a slow moving, reserved and meditative approach to telling a history lesson that just happens to be narrated by the one man who \\x96arguably- conducted the whole thing.<br /><br />Yet by moving from the lush green landscapes of Cuba and retreating to the bleak, decaying backdrop of Bolivia for Part Two, the story does inevitably take on a distinctly contrasting tone that doesn't feel too disjointed from its predecessor, but does enough to give it its own reference points. Here, the basic structure of Part One is echoed back\\x97there's the initial struggle, the battles, the fallen comrades and the recruiting of those to replace them, all the while we see some glimpses of the man behind the movement. Yet, as anyone with the vaguest idea of the actual history behind the feature will know, Part Two is destined to end on a much more underwhelming, and disquieting note. This difference, in combination with the similarities to Part One, make a compelling and memorable whole; by all means, both could be digested one their own (and kudos to Soderbergh for achieving as such) and enjoyed as they are, but taken as one statement, Che delivers exactly what it sets out to achieve.<br /><br />Indeed, everything that made Part One the treat that it was one month prior is still evident here from the subtle yet engrossing performances from the central cast to the slow building, realistically structured combat scenes\\x97the drama inherent to the characters on screen is just as vague and indiscernible, but with a feature such as this, Part Two once again proves that avoiding such elements don't necessarily hurt a film when there is enough plot and reflection on other elements to keep the viewer engaged. In fact, upon writing this review I was at odds as to whether or not to simply add a paragraph or two to my initial review for Part One, and title the review as a whole, yet I felt that to do so would only serve to disillusion those who may sit down to watch the entirety of both films consecutively.<br /><br />With that said, I cannot rightfully decree whether or not Che holds up to the task of engaging an audience for its sprawling four hour plus runtime, but upon viewing both segments I can at least attest to each part's ability to do just that. With a reflective, intricate screenplay combined with endlessly mesmerising photography and nuanced performances that do justice to the movie's characters without drawing attention to themselves, Che Part Two is every bit as compelling and rewarding as its predecessor, but this time with a tragic but uplifting, reaffirming conclusion fit for the history pages of film.<br /><br />- A review by Jamie Robert Ward (http://www.invocus.net)\""
      ]
     },
     "execution_count": 20,
     "metadata": {},
     "output_type": "execute_result"
    }
   ],
   "source": [
    "sample_text = dataset['review'][907]\n",
    "\n",
    "print(\"Sample review text: \\n\")\n",
    "sample_text"
   ]
  },
  {
   "cell_type": "code",
   "execution_count": 21,
   "metadata": {
    "id": "kv5ZLcfDkajb"
   },
   "outputs": [
    {
     "name": "stdout",
     "output_type": "stream",
     "text": [
      "Cleaned sample review text: \n",
      "\n"
     ]
    },
    {
     "data": {
      "text/plain": [
       "\"Following directly from where the story left off in part one, the second half which sets about telling the inevitable downfall and much more grim side of the man's legacy is exactly as such. In direct contrast to the first feature, part two represents a shift from Che the pride and glory of a revolutionised country, to Che\\x97struggling liberator of a country to which he has no previous ties. The change of setting isn't just aesthetic; from the autumn and spring greys of the woodlands comes a change of tone and heart to the feature, replacing the optimism of the predecessor with a cynical, battered and bruised reality aligned to an all new struggle. Yet, as Che would go on to say himself\\x97such a struggle is best told exactly as that\\x97a struggle. While Part One certainly helped document that initial surge to power that the revolutionary guerrilla acquired through just that, Part Two takes a much more refined, callous and bleak segment of Che's life and ambition, and gives it an assertive portrayal that is both poignant and tragic in a tangible, easy to grasp manner.<br /><br />While the movie's tone in some regards does stray off and differ quite drastically from Part One however, there still remains that same documented approach taken a month ago that avoids melodrama and fabrication as much as possible. This somewhat distant, cold approach to telling Che's story and struggle will no doubt turn some viewers off; indeed, I still remain reserved about whether or not the feature itself should have been named after one man\\x97if anything, the entirety of Che, taken as a whole, delivers a tale that goes beyond mere biography and instead documents a man's struggle alongside those who helped carry him along the way. By no means does Soderbergh try to paint a humanistic portrait here akin to what Hirschbiegel did with Der Untergang half a decade ago (excuse the ironic contrast); Che is a slow moving, reserved and meditative approach to telling a history lesson that just happens to be narrated by the one man who \\x96arguably- conducted the whole thing.<br /><br />Yet by moving from the lush green landscapes of Cuba and retreating to the bleak, decaying backdrop of Bolivia for Part Two, the story does inevitably take on a distinctly contrasting tone that doesn't feel too disjointed from its predecessor, but does enough to give it its own reference points. Here, the basic structure of Part One is echoed back\\x97there's the initial struggle, the battles, the fallen comrades and the recruiting of those to replace them, all the while we see some glimpses of the man behind the movement. Yet, as anyone with the vaguest idea of the actual history behind the feature will know, Part Two is destined to end on a much more underwhelming, and disquieting note. This difference, in combination with the similarities to Part One, make a compelling and memorable whole; by all means, both could be digested one their own (and kudos to Soderbergh for achieving as such) and enjoyed as they are, but taken as one statement, Che delivers exactly what it sets out to achieve.<br /><br />Indeed, everything that made Part One the treat that it was one month prior is still evident here from the subtle yet engrossing performances from the central cast to the slow building, realistically structured combat scenes\\x97the drama inherent to the characters on screen is just as vague and indiscernible, but with a feature such as this, Part Two once again proves that avoiding such elements don't necessarily hurt a film when there is enough plot and reflection on other elements to keep the viewer engaged. In fact, upon writing this review I was at odds as to whether or not to simply add a paragraph or two to my initial review for Part One, and title the review as a whole, yet I felt that to do so would only serve to disillusion those who may sit down to watch the entirety of both films consecutively.<br /><br />With that said, I cannot rightfully decree whether or not Che holds up to the task of engaging an audience for its sprawling four hour plus runtime, but upon viewing both segments I can at least attest to each part's ability to do just that. With a reflective, intricate screenplay combined with endlessly mesmerising photography and nuanced performances that do justice to the movie's characters without drawing attention to themselves, Che Part Two is every bit as compelling and rewarding as its predecessor, but this time with a tragic but uplifting, reaffirming conclusion fit for the history pages of film.<br /><br />- A review by Jamie Robert Ward ( \""
      ]
     },
     "execution_count": 21,
     "metadata": {},
     "output_type": "execute_result"
    }
   ],
   "source": [
    "sample_text = remove_urls(sample_text)\n",
    "\n",
    "print(\"Cleaned sample review text: \\n\")\n",
    "sample_text"
   ]
  },
  {
   "cell_type": "markdown",
   "metadata": {
    "id": "Aj0_0oBvkve1"
   },
   "source": [
    "### **Remove Emails Function**"
   ]
  },
  {
   "cell_type": "code",
   "execution_count": 22,
   "metadata": {
    "id": "RwqtwSzwkve2"
   },
   "outputs": [],
   "source": [
    "def remove_emails(text):\n",
    "    \"\"\"\n",
    "    Remove email addresses from the given text and return the cleaned text along with the list of removed emails.\n",
    "\n",
    "    Args:\n",
    "    - text (str): The text from which to remove email addresses.\n",
    "\n",
    "    Returns:\n",
    "    - tuple: A tuple containing the cleaned text and a list of the removed email addresses.\n",
    "    \"\"\"\n",
    "    # Define the email pattern\n",
    "    email_pattern = r'[a-zA-Z0-9._%+-]+@[a-zA-Z0-9.-]+\\.[a-zA-Z]{2,}'\n",
    "\n",
    "    # Find all email addresses in the text\n",
    "    email_addresses = re.findall(email_pattern, text)\n",
    "\n",
    "    # Remove email addresses from the text\n",
    "    return re.sub(email_pattern, '', text)"
   ]
  },
  {
   "cell_type": "code",
   "execution_count": 23,
   "metadata": {
    "id": "C_VM9HDwkve2"
   },
   "outputs": [
    {
     "name": "stdout",
     "output_type": "stream",
     "text": [
      "Sample review text: \n",
      "\n"
     ]
    },
    {
     "data": {
      "text/plain": [
       "\"I like many others saw this as a child and I loved it and it horrified me up until adulthood, I have been trying to find this movie and even been searching for it to play again on TV someday, since it originally played on USA networks. Does Anyone know where to buy this movie, or does anyone have it and would be willing to make a copy for me? Also does anyone know if there is a chance for it to be played on TV again? Maybe all of us fans should write a station in hopes of them airing it again. I don't think they did a good job of promoting this movie in the past because no one really knows about, people only know of the Stepford wives and Stepford husband movies. No one is familiar with the fact that there was a children version. Maybe they should also do a re-make of it since they seem to be doing that a lot lately with a lot of my favorite old thriller/horror flicks. Well if anyone has any input Please I Beg Of You write me with information. Thanks Taira tcampo23@aol.com\""
      ]
     },
     "execution_count": 23,
     "metadata": {},
     "output_type": "execute_result"
    }
   ],
   "source": [
    "sample_text = dataset['review'][1281]\n",
    "\n",
    "print(\"Sample review text: \\n\")\n",
    "sample_text"
   ]
  },
  {
   "cell_type": "code",
   "execution_count": 24,
   "metadata": {
    "id": "sUzp47Npkve2"
   },
   "outputs": [
    {
     "name": "stdout",
     "output_type": "stream",
     "text": [
      "Cleaned sample review text: \n",
      "\n"
     ]
    },
    {
     "data": {
      "text/plain": [
       "\"I like many others saw this as a child and I loved it and it horrified me up until adulthood, I have been trying to find this movie and even been searching for it to play again on TV someday, since it originally played on USA networks. Does Anyone know where to buy this movie, or does anyone have it and would be willing to make a copy for me? Also does anyone know if there is a chance for it to be played on TV again? Maybe all of us fans should write a station in hopes of them airing it again. I don't think they did a good job of promoting this movie in the past because no one really knows about, people only know of the Stepford wives and Stepford husband movies. No one is familiar with the fact that there was a children version. Maybe they should also do a re-make of it since they seem to be doing that a lot lately with a lot of my favorite old thriller/horror flicks. Well if anyone has any input Please I Beg Of You write me with information. Thanks Taira \""
      ]
     },
     "execution_count": 24,
     "metadata": {},
     "output_type": "execute_result"
    }
   ],
   "source": [
    "sample_text = remove_emails(sample_text)\n",
    "\n",
    "print(\"Cleaned sample review text: \\n\")\n",
    "sample_text"
   ]
  },
  {
   "cell_type": "markdown",
   "metadata": {
    "id": "xlOqVnOvntyD"
   },
   "source": [
    "### **Remove HTML Tags Function**"
   ]
  },
  {
   "cell_type": "code",
   "execution_count": 25,
   "metadata": {
    "id": "NhNqyGkyntyD"
   },
   "outputs": [],
   "source": [
    "def remove_html_tags(text):\n",
    "    \"\"\"\n",
    "    Remove HTML tags from the given text.\n",
    "\n",
    "    Args:\n",
    "    - text (str): The text containing HTML tags.\n",
    "\n",
    "    Returns:\n",
    "    - str: The text with HTML tags removed.\n",
    "    \"\"\"\n",
    "    return re.sub('<[^<]+?>', ' ', text)"
   ]
  },
  {
   "cell_type": "code",
   "execution_count": 26,
   "metadata": {
    "id": "qzIvdtyCntyE"
   },
   "outputs": [
    {
     "name": "stdout",
     "output_type": "stream",
     "text": [
      "Sample review text: \n",
      "\n"
     ]
    },
    {
     "data": {
      "text/plain": [
       "\"One of the other reviewers has mentioned that after watching just 1 Oz episode you'll be hooked. They are right, as this is exactly what happened with me.<br /><br />The first thing that struck me about Oz was its brutality and unflinching scenes of violence, which set in right from the word GO. Trust me, this is not a show for the faint hearted or timid. This show pulls no punches with regards to drugs, sex or violence. Its is hardcore, in the classic use of the word.<br /><br />It is called OZ as that is the nickname given to the Oswald Maximum Security State Penitentary. It focuses mainly on Emerald City, an experimental section of the prison where all the cells have glass fronts and face inwards, so privacy is not high on the agenda. Em City is home to many..Aryans, Muslims, gangstas, Latinos, Christians, Italians, Irish and more....so scuffles, death stares, dodgy dealings and shady agreements are never far away.<br /><br />I would say the main appeal of the show is due to the fact that it goes where other shows wouldn't dare. Forget pretty pictures painted for mainstream audiences, forget charm, forget romance...OZ doesn't mess around. The first episode I ever saw struck me as so nasty it was surreal, I couldn't say I was ready for it, but as I watched more, I developed a taste for Oz, and got accustomed to the high levels of graphic violence. Not just violence, but injustice (crooked guards who'll be sold out for a nickel, inmates who'll kill on order and get away with it, well mannered, middle class inmates being turned into prison bitches due to their lack of street skills or prison experience) Watching Oz, you may become comfortable with what is uncomfortable viewing....thats if you can get in touch with your darker side.\""
      ]
     },
     "execution_count": 26,
     "metadata": {},
     "output_type": "execute_result"
    }
   ],
   "source": [
    "sample_text = dataset['review'][0]\n",
    "\n",
    "print(\"Sample review text: \\n\")\n",
    "sample_text"
   ]
  },
  {
   "cell_type": "code",
   "execution_count": 27,
   "metadata": {
    "id": "Cf8Wwxo9ntyF"
   },
   "outputs": [
    {
     "name": "stdout",
     "output_type": "stream",
     "text": [
      "Cleaned sample review text: \n",
      "\n"
     ]
    },
    {
     "data": {
      "text/plain": [
       "\"One of the other reviewers has mentioned that after watching just 1 Oz episode you'll be hooked. They are right, as this is exactly what happened with me.  The first thing that struck me about Oz was its brutality and unflinching scenes of violence, which set in right from the word GO. Trust me, this is not a show for the faint hearted or timid. This show pulls no punches with regards to drugs, sex or violence. Its is hardcore, in the classic use of the word.  It is called OZ as that is the nickname given to the Oswald Maximum Security State Penitentary. It focuses mainly on Emerald City, an experimental section of the prison where all the cells have glass fronts and face inwards, so privacy is not high on the agenda. Em City is home to many..Aryans, Muslims, gangstas, Latinos, Christians, Italians, Irish and more....so scuffles, death stares, dodgy dealings and shady agreements are never far away.  I would say the main appeal of the show is due to the fact that it goes where other shows wouldn't dare. Forget pretty pictures painted for mainstream audiences, forget charm, forget romance...OZ doesn't mess around. The first episode I ever saw struck me as so nasty it was surreal, I couldn't say I was ready for it, but as I watched more, I developed a taste for Oz, and got accustomed to the high levels of graphic violence. Not just violence, but injustice (crooked guards who'll be sold out for a nickel, inmates who'll kill on order and get away with it, well mannered, middle class inmates being turned into prison bitches due to their lack of street skills or prison experience) Watching Oz, you may become comfortable with what is uncomfortable viewing....thats if you can get in touch with your darker side.\""
      ]
     },
     "execution_count": 27,
     "metadata": {},
     "output_type": "execute_result"
    }
   ],
   "source": [
    "sample_text = remove_html_tags(sample_text)\n",
    "\n",
    "print(\"Cleaned sample review text: \\n\")\n",
    "sample_text"
   ]
  },
  {
   "cell_type": "markdown",
   "metadata": {
    "id": "A1H3rECZlJyg"
   },
   "source": [
    "### **Remove Non-Ascii Characters Function**"
   ]
  },
  {
   "cell_type": "code",
   "execution_count": 28,
   "metadata": {
    "id": "cRNM3Wcjk6cM"
   },
   "outputs": [],
   "source": [
    "def remove_non_ascii(text):\n",
    "    \"\"\"\n",
    "    Remove non-ASCII characters from the given text.\n",
    "\n",
    "    Args:\n",
    "    - text (str): The text to clean.\n",
    "\n",
    "    Returns:\n",
    "    - str: The text with non-ASCII characters removed.\n",
    "    \"\"\"\n",
    "    return re.sub(r'[^\\x00-\\x7F]', ' ', text)"
   ]
  },
  {
   "cell_type": "code",
   "execution_count": 29,
   "metadata": {
    "id": "aI8G2sutlWD1"
   },
   "outputs": [
    {
     "name": "stdout",
     "output_type": "stream",
     "text": [
      "Sample review text: \n",
      "\n"
     ]
    },
    {
     "data": {
      "text/plain": [
       "\"Following directly from where the story left off in part one, the second half which sets about telling the inevitable downfall and much more grim side of the man's legacy is exactly as such. In direct contrast to the first feature, part two represents a shift from Che the pride and glory of a revolutionised country, to Che\\x97struggling liberator of a country to which he has no previous ties. The change of setting isn't just aesthetic; from the autumn and spring greys of the woodlands comes a change of tone and heart to the feature, replacing the optimism of the predecessor with a cynical, battered and bruised reality aligned to an all new struggle. Yet, as Che would go on to say himself\\x97such a struggle is best told exactly as that\\x97a struggle. While Part One certainly helped document that initial surge to power that the revolutionary guerrilla acquired through just that, Part Two takes a much more refined, callous and bleak segment of Che's life and ambition, and gives it an assertive portrayal that is both poignant and tragic in a tangible, easy to grasp manner.<br /><br />While the movie's tone in some regards does stray off and differ quite drastically from Part One however, there still remains that same documented approach taken a month ago that avoids melodrama and fabrication as much as possible. This somewhat distant, cold approach to telling Che's story and struggle will no doubt turn some viewers off; indeed, I still remain reserved about whether or not the feature itself should have been named after one man\\x97if anything, the entirety of Che, taken as a whole, delivers a tale that goes beyond mere biography and instead documents a man's struggle alongside those who helped carry him along the way. By no means does Soderbergh try to paint a humanistic portrait here akin to what Hirschbiegel did with Der Untergang half a decade ago (excuse the ironic contrast); Che is a slow moving, reserved and meditative approach to telling a history lesson that just happens to be narrated by the one man who \\x96arguably- conducted the whole thing.<br /><br />Yet by moving from the lush green landscapes of Cuba and retreating to the bleak, decaying backdrop of Bolivia for Part Two, the story does inevitably take on a distinctly contrasting tone that doesn't feel too disjointed from its predecessor, but does enough to give it its own reference points. Here, the basic structure of Part One is echoed back\\x97there's the initial struggle, the battles, the fallen comrades and the recruiting of those to replace them, all the while we see some glimpses of the man behind the movement. Yet, as anyone with the vaguest idea of the actual history behind the feature will know, Part Two is destined to end on a much more underwhelming, and disquieting note. This difference, in combination with the similarities to Part One, make a compelling and memorable whole; by all means, both could be digested one their own (and kudos to Soderbergh for achieving as such) and enjoyed as they are, but taken as one statement, Che delivers exactly what it sets out to achieve.<br /><br />Indeed, everything that made Part One the treat that it was one month prior is still evident here from the subtle yet engrossing performances from the central cast to the slow building, realistically structured combat scenes\\x97the drama inherent to the characters on screen is just as vague and indiscernible, but with a feature such as this, Part Two once again proves that avoiding such elements don't necessarily hurt a film when there is enough plot and reflection on other elements to keep the viewer engaged. In fact, upon writing this review I was at odds as to whether or not to simply add a paragraph or two to my initial review for Part One, and title the review as a whole, yet I felt that to do so would only serve to disillusion those who may sit down to watch the entirety of both films consecutively.<br /><br />With that said, I cannot rightfully decree whether or not Che holds up to the task of engaging an audience for its sprawling four hour plus runtime, but upon viewing both segments I can at least attest to each part's ability to do just that. With a reflective, intricate screenplay combined with endlessly mesmerising photography and nuanced performances that do justice to the movie's characters without drawing attention to themselves, Che Part Two is every bit as compelling and rewarding as its predecessor, but this time with a tragic but uplifting, reaffirming conclusion fit for the history pages of film.<br /><br />- A review by Jamie Robert Ward (http://www.invocus.net)\""
      ]
     },
     "execution_count": 29,
     "metadata": {},
     "output_type": "execute_result"
    }
   ],
   "source": [
    "sample_text = dataset['review'][907]\n",
    "\n",
    "print(\"Sample review text: \\n\")\n",
    "sample_text"
   ]
  },
  {
   "cell_type": "code",
   "execution_count": 30,
   "metadata": {
    "id": "2pMopzlclZHj"
   },
   "outputs": [
    {
     "name": "stdout",
     "output_type": "stream",
     "text": [
      "Cleaned sample review text: \n",
      "\n"
     ]
    },
    {
     "data": {
      "text/plain": [
       "\"Following directly from where the story left off in part one, the second half which sets about telling the inevitable downfall and much more grim side of the man's legacy is exactly as such. In direct contrast to the first feature, part two represents a shift from Che the pride and glory of a revolutionised country, to Che struggling liberator of a country to which he has no previous ties. The change of setting isn't just aesthetic; from the autumn and spring greys of the woodlands comes a change of tone and heart to the feature, replacing the optimism of the predecessor with a cynical, battered and bruised reality aligned to an all new struggle. Yet, as Che would go on to say himself such a struggle is best told exactly as that a struggle. While Part One certainly helped document that initial surge to power that the revolutionary guerrilla acquired through just that, Part Two takes a much more refined, callous and bleak segment of Che's life and ambition, and gives it an assertive portrayal that is both poignant and tragic in a tangible, easy to grasp manner.<br /><br />While the movie's tone in some regards does stray off and differ quite drastically from Part One however, there still remains that same documented approach taken a month ago that avoids melodrama and fabrication as much as possible. This somewhat distant, cold approach to telling Che's story and struggle will no doubt turn some viewers off; indeed, I still remain reserved about whether or not the feature itself should have been named after one man if anything, the entirety of Che, taken as a whole, delivers a tale that goes beyond mere biography and instead documents a man's struggle alongside those who helped carry him along the way. By no means does Soderbergh try to paint a humanistic portrait here akin to what Hirschbiegel did with Der Untergang half a decade ago (excuse the ironic contrast); Che is a slow moving, reserved and meditative approach to telling a history lesson that just happens to be narrated by the one man who  arguably- conducted the whole thing.<br /><br />Yet by moving from the lush green landscapes of Cuba and retreating to the bleak, decaying backdrop of Bolivia for Part Two, the story does inevitably take on a distinctly contrasting tone that doesn't feel too disjointed from its predecessor, but does enough to give it its own reference points. Here, the basic structure of Part One is echoed back there's the initial struggle, the battles, the fallen comrades and the recruiting of those to replace them, all the while we see some glimpses of the man behind the movement. Yet, as anyone with the vaguest idea of the actual history behind the feature will know, Part Two is destined to end on a much more underwhelming, and disquieting note. This difference, in combination with the similarities to Part One, make a compelling and memorable whole; by all means, both could be digested one their own (and kudos to Soderbergh for achieving as such) and enjoyed as they are, but taken as one statement, Che delivers exactly what it sets out to achieve.<br /><br />Indeed, everything that made Part One the treat that it was one month prior is still evident here from the subtle yet engrossing performances from the central cast to the slow building, realistically structured combat scenes the drama inherent to the characters on screen is just as vague and indiscernible, but with a feature such as this, Part Two once again proves that avoiding such elements don't necessarily hurt a film when there is enough plot and reflection on other elements to keep the viewer engaged. In fact, upon writing this review I was at odds as to whether or not to simply add a paragraph or two to my initial review for Part One, and title the review as a whole, yet I felt that to do so would only serve to disillusion those who may sit down to watch the entirety of both films consecutively.<br /><br />With that said, I cannot rightfully decree whether or not Che holds up to the task of engaging an audience for its sprawling four hour plus runtime, but upon viewing both segments I can at least attest to each part's ability to do just that. With a reflective, intricate screenplay combined with endlessly mesmerising photography and nuanced performances that do justice to the movie's characters without drawing attention to themselves, Che Part Two is every bit as compelling and rewarding as its predecessor, but this time with a tragic but uplifting, reaffirming conclusion fit for the history pages of film.<br /><br />- A review by Jamie Robert Ward (http://www.invocus.net)\""
      ]
     },
     "execution_count": 30,
     "metadata": {},
     "output_type": "execute_result"
    }
   ],
   "source": [
    "sample_text = remove_non_ascii(sample_text)\n",
    "\n",
    "print(\"Cleaned sample review text: \\n\")\n",
    "sample_text"
   ]
  },
  {
   "cell_type": "markdown",
   "metadata": {
    "id": "q44L15ysnKFN"
   },
   "source": [
    "### **Remove Punctuations & Special Characters Function**"
   ]
  },
  {
   "cell_type": "code",
   "execution_count": 31,
   "metadata": {
    "id": "I8EHzURllcWx"
   },
   "outputs": [],
   "source": [
    "def remove_punctuation_and_special_characters(text):\n",
    "    \"\"\"\n",
    "    Remove punctuation and special characters from the given text.\n",
    "\n",
    "    This function replaces all characters in the input text that are\n",
    "    not word characters (alphanumeric and underscores) or whitespace\n",
    "    with a space.\n",
    "\n",
    "    Args:\n",
    "    - text (str): The text from which to remove punctuation and special characters.\n",
    "\n",
    "    Returns:\n",
    "    - str: The text with punctuation and special characters replaced by spaces.\n",
    "    \"\"\"\n",
    "    return re.sub(r'[^\\w\\s]', ' ', text)"
   ]
  },
  {
   "cell_type": "code",
   "execution_count": 32,
   "metadata": {
    "id": "h1ZUUFEznFTn"
   },
   "outputs": [
    {
     "name": "stdout",
     "output_type": "stream",
     "text": [
      "Sample review text: \n",
      "\n"
     ]
    },
    {
     "data": {
      "text/plain": [
       "\"One of the other reviewers has mentioned that after watching just 1 Oz episode you'll be hooked. They are right, as this is exactly what happened with me.<br /><br />The first thing that struck me about Oz was its brutality and unflinching scenes of violence, which set in right from the word GO. Trust me, this is not a show for the faint hearted or timid. This show pulls no punches with regards to drugs, sex or violence. Its is hardcore, in the classic use of the word.<br /><br />It is called OZ as that is the nickname given to the Oswald Maximum Security State Penitentary. It focuses mainly on Emerald City, an experimental section of the prison where all the cells have glass fronts and face inwards, so privacy is not high on the agenda. Em City is home to many..Aryans, Muslims, gangstas, Latinos, Christians, Italians, Irish and more....so scuffles, death stares, dodgy dealings and shady agreements are never far away.<br /><br />I would say the main appeal of the show is due to the fact that it goes where other shows wouldn't dare. Forget pretty pictures painted for mainstream audiences, forget charm, forget romance...OZ doesn't mess around. The first episode I ever saw struck me as so nasty it was surreal, I couldn't say I was ready for it, but as I watched more, I developed a taste for Oz, and got accustomed to the high levels of graphic violence. Not just violence, but injustice (crooked guards who'll be sold out for a nickel, inmates who'll kill on order and get away with it, well mannered, middle class inmates being turned into prison bitches due to their lack of street skills or prison experience) Watching Oz, you may become comfortable with what is uncomfortable viewing....thats if you can get in touch with your darker side.\""
      ]
     },
     "execution_count": 32,
     "metadata": {},
     "output_type": "execute_result"
    }
   ],
   "source": [
    "sample_text = dataset['review'][0]\n",
    "\n",
    "print(\"Sample review text: \\n\")\n",
    "sample_text"
   ]
  },
  {
   "cell_type": "code",
   "execution_count": 33,
   "metadata": {
    "id": "X19NjhF8nFWz"
   },
   "outputs": [
    {
     "name": "stdout",
     "output_type": "stream",
     "text": [
      "Cleaned sample review text: \n",
      "\n"
     ]
    },
    {
     "data": {
      "text/plain": [
       "'One of the other reviewers has mentioned that after watching just 1 Oz episode you ll be hooked  They are right  as this is exactly what happened with me  br    br   The first thing that struck me about Oz was its brutality and unflinching scenes of violence  which set in right from the word GO  Trust me  this is not a show for the faint hearted or timid  This show pulls no punches with regards to drugs  sex or violence  Its is hardcore  in the classic use of the word  br    br   It is called OZ as that is the nickname given to the Oswald Maximum Security State Penitentary  It focuses mainly on Emerald City  an experimental section of the prison where all the cells have glass fronts and face inwards  so privacy is not high on the agenda  Em City is home to many  Aryans  Muslims  gangstas  Latinos  Christians  Italians  Irish and more    so scuffles  death stares  dodgy dealings and shady agreements are never far away  br    br   I would say the main appeal of the show is due to the fact that it goes where other shows wouldn t dare  Forget pretty pictures painted for mainstream audiences  forget charm  forget romance   OZ doesn t mess around  The first episode I ever saw struck me as so nasty it was surreal  I couldn t say I was ready for it  but as I watched more  I developed a taste for Oz  and got accustomed to the high levels of graphic violence  Not just violence  but injustice  crooked guards who ll be sold out for a nickel  inmates who ll kill on order and get away with it  well mannered  middle class inmates being turned into prison bitches due to their lack of street skills or prison experience  Watching Oz  you may become comfortable with what is uncomfortable viewing    thats if you can get in touch with your darker side '"
      ]
     },
     "execution_count": 33,
     "metadata": {},
     "output_type": "execute_result"
    }
   ],
   "source": [
    "sample_text = remove_punctuation_and_special_characters(sample_text)\n",
    "\n",
    "print(\"Cleaned sample review text: \\n\")\n",
    "sample_text"
   ]
  },
  {
   "cell_type": "markdown",
   "metadata": {
    "id": "AOSGYwXFoL0g"
   },
   "source": [
    "### **Remove Numbers Function**"
   ]
  },
  {
   "cell_type": "code",
   "execution_count": 34,
   "metadata": {
    "id": "82F2tD-_oGTr"
   },
   "outputs": [],
   "source": [
    "def remove_numbers(text):\n",
    "    \"\"\"\n",
    "    Remove numbers from text.\n",
    "\n",
    "    Args:\n",
    "    - text (str): The text to remove numbers from.\n",
    "\n",
    "    Returns:\n",
    "    - str: The text with numbers removed.\n",
    "    \"\"\"\n",
    "    return re.sub(r'\\d', ' ', text)"
   ]
  },
  {
   "cell_type": "code",
   "execution_count": 35,
   "metadata": {
    "id": "ykr04Qu5oGWo"
   },
   "outputs": [
    {
     "name": "stdout",
     "output_type": "stream",
     "text": [
      "Sample review text: \n",
      "\n"
     ]
    },
    {
     "data": {
      "text/plain": [
       "\"One of the other reviewers has mentioned that after watching just 1 Oz episode you'll be hooked. They are right, as this is exactly what happened with me.<br /><br />The first thing that struck me about Oz was its brutality and unflinching scenes of violence, which set in right from the word GO. Trust me, this is not a show for the faint hearted or timid. This show pulls no punches with regards to drugs, sex or violence. Its is hardcore, in the classic use of the word.<br /><br />It is called OZ as that is the nickname given to the Oswald Maximum Security State Penitentary. It focuses mainly on Emerald City, an experimental section of the prison where all the cells have glass fronts and face inwards, so privacy is not high on the agenda. Em City is home to many..Aryans, Muslims, gangstas, Latinos, Christians, Italians, Irish and more....so scuffles, death stares, dodgy dealings and shady agreements are never far away.<br /><br />I would say the main appeal of the show is due to the fact that it goes where other shows wouldn't dare. Forget pretty pictures painted for mainstream audiences, forget charm, forget romance...OZ doesn't mess around. The first episode I ever saw struck me as so nasty it was surreal, I couldn't say I was ready for it, but as I watched more, I developed a taste for Oz, and got accustomed to the high levels of graphic violence. Not just violence, but injustice (crooked guards who'll be sold out for a nickel, inmates who'll kill on order and get away with it, well mannered, middle class inmates being turned into prison bitches due to their lack of street skills or prison experience) Watching Oz, you may become comfortable with what is uncomfortable viewing....thats if you can get in touch with your darker side.\""
      ]
     },
     "execution_count": 35,
     "metadata": {},
     "output_type": "execute_result"
    }
   ],
   "source": [
    "sample_text = dataset['review'][0]\n",
    "\n",
    "print(\"Sample review text: \\n\")\n",
    "sample_text"
   ]
  },
  {
   "cell_type": "code",
   "execution_count": 36,
   "metadata": {
    "id": "-6TXkRFYoGY5"
   },
   "outputs": [
    {
     "name": "stdout",
     "output_type": "stream",
     "text": [
      "Cleaned sample review text: \n",
      "\n"
     ]
    },
    {
     "data": {
      "text/plain": [
       "\"One of the other reviewers has mentioned that after watching just   Oz episode you'll be hooked. They are right, as this is exactly what happened with me.<br /><br />The first thing that struck me about Oz was its brutality and unflinching scenes of violence, which set in right from the word GO. Trust me, this is not a show for the faint hearted or timid. This show pulls no punches with regards to drugs, sex or violence. Its is hardcore, in the classic use of the word.<br /><br />It is called OZ as that is the nickname given to the Oswald Maximum Security State Penitentary. It focuses mainly on Emerald City, an experimental section of the prison where all the cells have glass fronts and face inwards, so privacy is not high on the agenda. Em City is home to many..Aryans, Muslims, gangstas, Latinos, Christians, Italians, Irish and more....so scuffles, death stares, dodgy dealings and shady agreements are never far away.<br /><br />I would say the main appeal of the show is due to the fact that it goes where other shows wouldn't dare. Forget pretty pictures painted for mainstream audiences, forget charm, forget romance...OZ doesn't mess around. The first episode I ever saw struck me as so nasty it was surreal, I couldn't say I was ready for it, but as I watched more, I developed a taste for Oz, and got accustomed to the high levels of graphic violence. Not just violence, but injustice (crooked guards who'll be sold out for a nickel, inmates who'll kill on order and get away with it, well mannered, middle class inmates being turned into prison bitches due to their lack of street skills or prison experience) Watching Oz, you may become comfortable with what is uncomfortable viewing....thats if you can get in touch with your darker side.\""
      ]
     },
     "execution_count": 36,
     "metadata": {},
     "output_type": "execute_result"
    }
   ],
   "source": [
    "sample_text = remove_numbers(sample_text)\n",
    "\n",
    "print(\"Cleaned sample review text: \\n\")\n",
    "sample_text"
   ]
  },
  {
   "cell_type": "markdown",
   "metadata": {
    "id": "oO-f1WNvtqTR"
   },
   "source": [
    "### **Remove Chat Words Function**"
   ]
  },
  {
   "cell_type": "code",
   "execution_count": 37,
   "metadata": {
    "id": "RwGVB7mmoQor"
   },
   "outputs": [
    {
     "name": "stdout",
     "output_type": "stream",
     "text": [
      "DataFrame loaded successfully with 67 rows and 2 columns.\n"
     ]
    }
   ],
   "source": [
    "url = \"https://raw.githubusercontent.com/MFuchs1989/Datasets-and-Miscellaneous/main/datasets/NLP/Text%20Pre-Processing%20VII%20(Special%20Cases)/chat_expressions.csv\"\n",
    "\n",
    "try:\n",
    "    chat_expressions = pd.read_csv(url, encoding='utf-8', engine='python')\n",
    "    chat_expressions\n",
    "except pd.errors.ParserError as e:\n",
    "    print(f\"ParserError: {e}\")\n",
    "    chat_expressions = None\n",
    "\n",
    "if chat_expressions is not None:\n",
    "    print(f\"DataFrame loaded successfully with {chat_expressions.shape[0]} rows and {chat_expressions.shape[1]} columns.\")\n",
    "else:\n",
    "    print(\"Failed to load DataFrame.\")"
   ]
  },
  {
   "cell_type": "code",
   "execution_count": 38,
   "metadata": {
    "id": "G5kIlmzSr5tn"
   },
   "outputs": [
    {
     "data": {
      "text/html": [
       "<div>\n",
       "<style scoped>\n",
       "    .dataframe tbody tr th:only-of-type {\n",
       "        vertical-align: middle;\n",
       "    }\n",
       "\n",
       "    .dataframe tbody tr th {\n",
       "        vertical-align: top;\n",
       "    }\n",
       "\n",
       "    .dataframe thead th {\n",
       "        text-align: right;\n",
       "    }\n",
       "</style>\n",
       "<table border=\"1\" class=\"dataframe\">\n",
       "  <thead>\n",
       "    <tr style=\"text-align: right;\">\n",
       "      <th></th>\n",
       "      <th>Chat_Words</th>\n",
       "      <th>Chat_Words_Extended</th>\n",
       "    </tr>\n",
       "  </thead>\n",
       "  <tbody>\n",
       "    <tr>\n",
       "      <th>0</th>\n",
       "      <td>AFAIK</td>\n",
       "      <td>As Far As I Know</td>\n",
       "    </tr>\n",
       "    <tr>\n",
       "      <th>1</th>\n",
       "      <td>AFK</td>\n",
       "      <td>Away From Keyboard</td>\n",
       "    </tr>\n",
       "    <tr>\n",
       "      <th>2</th>\n",
       "      <td>ASAP</td>\n",
       "      <td>As Soon As Possible</td>\n",
       "    </tr>\n",
       "    <tr>\n",
       "      <th>3</th>\n",
       "      <td>ATK</td>\n",
       "      <td>At The Keyboard</td>\n",
       "    </tr>\n",
       "    <tr>\n",
       "      <th>4</th>\n",
       "      <td>ATM</td>\n",
       "      <td>At The Moment</td>\n",
       "    </tr>\n",
       "    <tr>\n",
       "      <th>...</th>\n",
       "      <td>...</td>\n",
       "      <td>...</td>\n",
       "    </tr>\n",
       "    <tr>\n",
       "      <th>62</th>\n",
       "      <td>WB</td>\n",
       "      <td>Welcome Back</td>\n",
       "    </tr>\n",
       "    <tr>\n",
       "      <th>63</th>\n",
       "      <td>WTF</td>\n",
       "      <td>What The Fuck</td>\n",
       "    </tr>\n",
       "    <tr>\n",
       "      <th>64</th>\n",
       "      <td>WTG</td>\n",
       "      <td>Way To Go</td>\n",
       "    </tr>\n",
       "    <tr>\n",
       "      <th>65</th>\n",
       "      <td>WUF</td>\n",
       "      <td>Where Are You From</td>\n",
       "    </tr>\n",
       "    <tr>\n",
       "      <th>66</th>\n",
       "      <td>W8</td>\n",
       "      <td>Wait</td>\n",
       "    </tr>\n",
       "  </tbody>\n",
       "</table>\n",
       "<p>67 rows × 2 columns</p>\n",
       "</div>"
      ],
      "text/plain": [
       "   Chat_Words  Chat_Words_Extended\n",
       "0       AFAIK     As Far As I Know\n",
       "1         AFK   Away From Keyboard\n",
       "2        ASAP  As Soon As Possible\n",
       "3         ATK      At The Keyboard\n",
       "4         ATM        At The Moment\n",
       "..        ...                  ...\n",
       "62         WB         Welcome Back\n",
       "63        WTF        What The Fuck\n",
       "64        WTG            Way To Go\n",
       "65        WUF   Where Are You From\n",
       "66         W8                 Wait\n",
       "\n",
       "[67 rows x 2 columns]"
      ]
     },
     "execution_count": 38,
     "metadata": {},
     "output_type": "execute_result"
    }
   ],
   "source": [
    "chat_expressions"
   ]
  },
  {
   "cell_type": "code",
   "execution_count": 39,
   "metadata": {
    "id": "dGjoZocEr8TN"
   },
   "outputs": [],
   "source": [
    "def create_chat_words_list(chat_expressions):\n",
    "    \"\"\"\n",
    "    Create a list of chat words including both their original and lowercase versions.\n",
    "\n",
    "    Args:\n",
    "    - chat_expressions (dict): Dictionary containing chat words under the key 'Chat_Words'.\n",
    "\n",
    "    Returns:\n",
    "    - list: List of chat words including their lowercase versions.\n",
    "    \"\"\"\n",
    "    chat_words = chat_expressions['Chat_Words']\n",
    "    chat_words_list = set()\n",
    "\n",
    "    for word in chat_words:\n",
    "        chat_words_list.add(word)\n",
    "        chat_words_list.add(word.lower())\n",
    "\n",
    "    return list(chat_words_list)"
   ]
  },
  {
   "cell_type": "code",
   "execution_count": 40,
   "metadata": {
    "id": "B0wsnRoowf_j"
   },
   "outputs": [
    {
     "name": "stdout",
     "output_type": "stream",
     "text": [
      "['prt', 'afaik', 'prw', 'lol', 'IRL', 'gr8', 'FYI', 'irl', 'fwiw', 'wtf', 'brt', 'GR8', 'GG', 'M8', 'asl', 'IMO', 'gg', 'icq', 'gn', 'cya', 'BBL', 'b4', 'IC', 'IOW', 'L8R', 'SK8', 'PITA', 'rotflmao', 'imo', 'ATM', 'BFN', 'fyi', 'OMG', 'TTFN', 'nrn', 'WTF', 'STATS', 'cu', 'WUF', 'bak', 'OIC', 'PRT', 'kiss,\"keep it simple, stupid\"', 'ROFL', 'AFK', 'imho', 'FAQ', 'ic', 'pita', 'CYA', 'ILU', 'FWIW', 'B4', 'ATK', 'CUL8R', 'u', 'ASAP', 'gmta', 'BAK', 'roflol', 'LDR', 'wb', 'ICQ', 'asap', 'ldr', 'LOL', 'lmao', 'm8', 'GMTA', 'G9', 'brb', 'btw', 'stats', 'faq', 'ASL', 'CU', 'rofl', 'thx', 'U', 'fc', 'ROTFLMAO', 'TTYL', 'BTW', 'afk', 'A3', 'ttyl', 'WB', 'a3', 'wuf', 'BRB', 'KISS,\"Keep It Simple, Stupid\"', 'g9', 'atk', 'LTNS', 'b4n', 'U2', 'u4e', 'BBS', 'w8', 'MTE', 'ltns', 'bbl', 'ttfn', 'bfn', 'omg', 'THX', 'IMHO', 'NRN', 'ilu', 'B4N', 'BRT', 'oic', 'WTG', 'bbs', 'FC', 'GN', 'u2', 'wtg', 'GAL', 'AFAIK', 'mte', 'ROFLOL', 'sk8', 'U4E', 'LMAO', 'gal', 'atm', 'W8', 'cul8r', 'l8r', 'PRW', 'iow']\n"
     ]
    }
   ],
   "source": [
    "chat_words_list = create_chat_words_list(chat_expressions)\n",
    "print(chat_words_list)"
   ]
  },
  {
   "cell_type": "code",
   "execution_count": 41,
   "metadata": {
    "id": "MJoQPdmptqlN"
   },
   "outputs": [],
   "source": [
    "def remove_chat_words(text):\n",
    "    \"\"\"\n",
    "    Replace chat words in the text with spaces.\n",
    "\n",
    "    Args:\n",
    "    - text (str): The input text.\n",
    "    - chat_words_list (list): List of chat words to be removed.\n",
    "\n",
    "    Returns:\n",
    "    - str: The text with chat words replaced by spaces.\n",
    "    \"\"\"\n",
    "    words = text.split()\n",
    "    cleaned_words = [w if w not in chat_words_list else ' ' for w in words]\n",
    "\n",
    "    return ' '.join(cleaned_words)"
   ]
  },
  {
   "cell_type": "code",
   "execution_count": 42,
   "metadata": {
    "id": "FrNZA72Vxeis"
   },
   "outputs": [
    {
     "name": "stdout",
     "output_type": "stream",
     "text": [
      "Sample review text: \n",
      "\n"
     ]
    },
    {
     "data": {
      "text/plain": [
       "'So im not a big fan of Boll\\'s work but then again not many are. I enjoyed his movie Postal (maybe im the only one). Boll apparently bought the rights to use Far Cry long ago even before the game itself was even finsished. <br /><br />People who have enjoyed killing mercs and infiltrating secret research labs located on a tropical island should be warned, that this is not Far Cry... This is something Mr Boll have schemed together along with his legion of schmucks.. Feeling loneley on the set Mr Boll invites three of his countrymen to play with. These players go by the names of Til Schweiger, Udo Kier and Ralf Moeller.<br /><br />Three names that actually have made them selfs pretty big in the movie biz. So the tale goes like this, Jack Carver played by Til Schweiger (yes Carver is German all hail the bratwurst eating dudes!!) However I find that Tils acting in this movie is pretty badass.. People have complained about how he\\'s not really staying true to the whole Carver agenda but we only saw carver in a first person perspective so we don\\'t really know what he looked like when he was kicking a**.. <br /><br />However, the storyline in this film is beyond demented. We see the evil mad scientist Dr. Krieger played by Udo Kier, making Genetically-Mutated-soldiers or GMS as they are called. Performing his top-secret research on an island that reminds me of \"SPOILER\" Vancouver for some reason. Thats right no palm trees here. Instead we got some nice rich lumberjack-woods. We haven\\'t even gone FAR before I started to CRY (mehehe) I cannot go on any more.. If you wanna stay true to Bolls shenanigans then go and see this movie you will not be disappointed it delivers the true Boll experience, meaning most of it will suck.<br /><br />There are some things worth mentioning that would imply that Boll did a good work on some areas of the film such as some nice boat and fighting scenes. Until the whole cromed/albino GMS squad enters the scene and everything just makes me laugh.. The movie Far Cry reeks of scheisse (that\\'s poop for you simpletons) from a fa,r if you wanna take a wiff go ahead.. BTW Carver gets a very annoying sidekick who makes you wanna shoot him the first three minutes he\\'s on screen.'"
      ]
     },
     "execution_count": 42,
     "metadata": {},
     "output_type": "execute_result"
    }
   ],
   "source": [
    "sample_text = dataset['review'][12]\n",
    "\n",
    "print(\"Sample review text: \\n\")\n",
    "sample_text"
   ]
  },
  {
   "cell_type": "code",
   "execution_count": 43,
   "metadata": {
    "id": "BIL1UKczxela"
   },
   "outputs": [
    {
     "name": "stdout",
     "output_type": "stream",
     "text": [
      "Cleaned sample review text: \n",
      "\n"
     ]
    },
    {
     "data": {
      "text/plain": [
       "'So im not a big fan of Boll\\'s work but then again not many are. I enjoyed his movie Postal (maybe im the only one). Boll apparently bought the rights to use Far Cry long ago even before the game itself was even finsished. <br /><br />People who have enjoyed killing mercs and infiltrating secret research labs located on a tropical island should be warned, that this is not Far Cry... This is something Mr Boll have schemed together along with his legion of schmucks.. Feeling loneley on the set Mr Boll invites three of his countrymen to play with. These players go by the names of Til Schweiger, Udo Kier and Ralf Moeller.<br /><br />Three names that actually have made them selfs pretty big in the movie biz. So the tale goes like this, Jack Carver played by Til Schweiger (yes Carver is German all hail the bratwurst eating dudes!!) However I find that Tils acting in this movie is pretty badass.. People have complained about how he\\'s not really staying true to the whole Carver agenda but we only saw carver in a first person perspective so we don\\'t really know what he looked like when he was kicking a**.. <br /><br />However, the storyline in this film is beyond demented. We see the evil mad scientist Dr. Krieger played by Udo Kier, making Genetically-Mutated-soldiers or GMS as they are called. Performing his top-secret research on an island that reminds me of \"SPOILER\" Vancouver for some reason. Thats right no palm trees here. Instead we got some nice rich lumberjack-woods. We haven\\'t even gone FAR before I started to CRY (mehehe) I cannot go on any more.. If you wanna stay true to Bolls shenanigans then go and see this movie you will not be disappointed it delivers the true Boll experience, meaning most of it will suck.<br /><br />There are some things worth mentioning that would imply that Boll did a good work on some areas of the film such as some nice boat and fighting scenes. Until the whole cromed/albino GMS squad enters the scene and everything just makes me laugh.. The movie Far Cry reeks of scheisse (that\\'s poop for you simpletons) from a fa,r if you wanna take a wiff go ahead..   Carver gets a very annoying sidekick who makes you wanna shoot him the first three minutes he\\'s on screen.'"
      ]
     },
     "execution_count": 43,
     "metadata": {},
     "output_type": "execute_result"
    }
   ],
   "source": [
    "sample_text = remove_chat_words(sample_text)\n",
    "\n",
    "print(\"Cleaned sample review text: \\n\")\n",
    "sample_text"
   ]
  },
  {
   "cell_type": "markdown",
   "metadata": {
    "id": "kGomSe0Ieuhv"
   },
   "source": [
    "### **Remove Extra Spaces Function**"
   ]
  },
  {
   "cell_type": "code",
   "execution_count": 44,
   "metadata": {
    "id": "JQy-VuaWelKW"
   },
   "outputs": [],
   "source": [
    "def remove_extra_spaces(text):\n",
    "    \"\"\"\n",
    "    Remove extra spaces from text.\n",
    "\n",
    "    Args:\n",
    "    - text (str): The text to remove extra spaces from.\n",
    "\n",
    "    Returns:\n",
    "    - str: The text with extra spaces removed.\n",
    "    \"\"\"\n",
    "    return re.sub(r'\\s+', ' ', text)"
   ]
  },
  {
   "cell_type": "code",
   "execution_count": 45,
   "metadata": {
    "id": "Diwr3k32elOd"
   },
   "outputs": [
    {
     "name": "stdout",
     "output_type": "stream",
     "text": [
      "Sample review text: \n",
      "\n"
     ]
    },
    {
     "data": {
      "text/plain": [
       "\"One of the other reviewers has mentioned that after watching just 1 Oz episode you'll be hooked. They are right, as this is exactly what happened with me.<br /><br />The first thing that struck me about Oz was its brutality and unflinching scenes of violence, which set in right from the word GO. Trust me, this is not a show for the faint hearted or timid. This show pulls no punches with regards to drugs, sex or violence. Its is hardcore, in the classic use of the word.<br /><br />It is called OZ as that is the nickname given to the Oswald Maximum Security State Penitentary. It focuses mainly on Emerald City, an experimental section of the prison where all the cells have glass fronts and face inwards, so privacy is not high on the agenda. Em City is home to many..Aryans, Muslims, gangstas, Latinos, Christians, Italians, Irish and more....so scuffles, death stares, dodgy dealings and shady agreements are never far away.<br /><br />I would say the main appeal of the show is due to the fact that it goes where other shows wouldn't dare. Forget pretty pictures painted for mainstream audiences, forget charm, forget romance...OZ doesn't mess around. The first episode I ever saw struck me as so nasty it was surreal, I couldn't say I was ready for it, but as I watched more, I developed a taste for Oz, and got accustomed to the high levels of graphic violence. Not just violence, but injustice (crooked guards who'll be sold out for a nickel, inmates who'll kill on order and get away with it, well mannered, middle class inmates being turned into prison bitches due to their lack of street skills or prison experience) Watching Oz, you may become comfortable with what is uncomfortable viewing....thats if you can get in touch with your darker side.\""
      ]
     },
     "execution_count": 45,
     "metadata": {},
     "output_type": "execute_result"
    }
   ],
   "source": [
    "sample_text = dataset['review'][0]\n",
    "\n",
    "print(\"Sample review text: \\n\")\n",
    "sample_text"
   ]
  },
  {
   "cell_type": "code",
   "execution_count": 46,
   "metadata": {
    "id": "-LqmKKeLeqpH"
   },
   "outputs": [
    {
     "name": "stdout",
     "output_type": "stream",
     "text": [
      "Cleaned sample review text: \n",
      "\n"
     ]
    },
    {
     "data": {
      "text/plain": [
       "\"One of the other reviewers has mentioned that after watching just 1 Oz episode you'll be hooked. They are right, as this is exactly what happened with me.<br /><br />The first thing that struck me about Oz was its brutality and unflinching scenes of violence, which set in right from the word GO. Trust me, this is not a show for the faint hearted or timid. This show pulls no punches with regards to drugs, sex or violence. Its is hardcore, in the classic use of the word.<br /><br />It is called OZ as that is the nickname given to the Oswald Maximum Security State Penitentary. It focuses mainly on Emerald City, an experimental section of the prison where all the cells have glass fronts and face inwards, so privacy is not high on the agenda. Em City is home to many..Aryans, Muslims, gangstas, Latinos, Christians, Italians, Irish and more....so scuffles, death stares, dodgy dealings and shady agreements are never far away.<br /><br />I would say the main appeal of the show is due to the fact that it goes where other shows wouldn't dare. Forget pretty pictures painted for mainstream audiences, forget charm, forget romance...OZ doesn't mess around. The first episode I ever saw struck me as so nasty it was surreal, I couldn't say I was ready for it, but as I watched more, I developed a taste for Oz, and got accustomed to the high levels of graphic violence. Not just violence, but injustice (crooked guards who'll be sold out for a nickel, inmates who'll kill on order and get away with it, well mannered, middle class inmates being turned into prison bitches due to their lack of street skills or prison experience) Watching Oz, you may become comfortable with what is uncomfortable viewing....thats if you can get in touch with your darker side.\""
      ]
     },
     "execution_count": 46,
     "metadata": {},
     "output_type": "execute_result"
    }
   ],
   "source": [
    "sample_text = remove_extra_spaces(sample_text)\n",
    "\n",
    "print(\"Cleaned sample review text: \\n\")\n",
    "sample_text"
   ]
  },
  {
   "cell_type": "markdown",
   "metadata": {
    "id": "4tXsozGJM0me"
   },
   "source": [
    "### **Remove Stop Words Function**"
   ]
  },
  {
   "cell_type": "code",
   "execution_count": 47,
   "metadata": {
    "id": "T1vR7FfbsqL7"
   },
   "outputs": [
    {
     "name": "stderr",
     "output_type": "stream",
     "text": [
      "[nltk_data] Downloading package stopwords to\n",
      "[nltk_data]     C:\\Users\\glows\\AppData\\Roaming\\nltk_data...\n",
      "[nltk_data]   Package stopwords is already up-to-date!\n"
     ]
    }
   ],
   "source": [
    "nltk.download('stopwords')\n",
    "stop_words = set(stopwords.words('english'))"
   ]
  },
  {
   "cell_type": "code",
   "execution_count": 48,
   "metadata": {
    "id": "QAhLdTVANSGc"
   },
   "outputs": [
    {
     "name": "stdout",
     "output_type": "stream",
     "text": [
      "List of Stop Words: \n",
      "\n"
     ]
    },
    {
     "data": {
      "text/plain": [
       "\"i, me, my, myself, we, our, ours, ourselves, you, you're, you've, you'll, you'd, your, yours, yourself, yourselves, he, him, his, himself, she, she's, her, hers, herself, it, it's, its, itself, they, them, their, theirs, themselves, what, which, who, whom, this, that, that'll, these, those, am, is, are, was, were, be, been, being, have, has, had, having, do, does, did, doing, a, an, the, and, but, if, or, because, as, until, while, of, at, by, for, with, about, against, between, into, through, during, before, after, above, below, to, from, up, down, in, out, on, off, over, under, again, further, then, once, here, there, when, where, why, how, all, any, both, each, few, more, most, other, some, such, no, nor, not, only, own, same, so, than, too, very, s, t, can, will, just, don, don't, should, should've, now, d, ll, m, o, re, ve, y, ain, aren, aren't, couldn, couldn't, didn, didn't, doesn, doesn't, hadn, hadn't, hasn, hasn't, haven, haven't, isn, isn't, ma, mightn, mightn't, mustn, mustn't, needn, needn't, shan, shan't, shouldn, shouldn't, wasn, wasn't, weren, weren't, won, won't, wouldn, wouldn't\""
      ]
     },
     "execution_count": 48,
     "metadata": {},
     "output_type": "execute_result"
    }
   ],
   "source": [
    "print(\"List of Stop Words: \\n\")\n",
    "\n",
    "\", \".join(stopwords.words('english'))"
   ]
  },
  {
   "cell_type": "code",
   "execution_count": 49,
   "metadata": {
    "id": "zGRtutjZMnaS"
   },
   "outputs": [],
   "source": [
    "def remove_stopwords(text):\n",
    "    \"\"\"\n",
    "    Remove stop words from the text.\n",
    "\n",
    "    Args:\n",
    "    - text (str): The input text.\n",
    "\n",
    "    Returns:\n",
    "    - str: The text with stop words removed.\n",
    "    \"\"\"\n",
    "    words = text.split()\n",
    "    cleaned_words = [w for w in words if w.lower() not in stop_words]\n",
    "    return ' '.join(cleaned_words)"
   ]
  },
  {
   "cell_type": "code",
   "execution_count": 50,
   "metadata": {
    "id": "sZZfwZNcMy8P"
   },
   "outputs": [
    {
     "name": "stdout",
     "output_type": "stream",
     "text": [
      "Sample review text: \n",
      "\n"
     ]
    },
    {
     "data": {
      "text/plain": [
       "\"One of the other reviewers has mentioned that after watching just 1 Oz episode you'll be hooked. They are right, as this is exactly what happened with me.<br /><br />The first thing that struck me about Oz was its brutality and unflinching scenes of violence, which set in right from the word GO. Trust me, this is not a show for the faint hearted or timid. This show pulls no punches with regards to drugs, sex or violence. Its is hardcore, in the classic use of the word.<br /><br />It is called OZ as that is the nickname given to the Oswald Maximum Security State Penitentary. It focuses mainly on Emerald City, an experimental section of the prison where all the cells have glass fronts and face inwards, so privacy is not high on the agenda. Em City is home to many..Aryans, Muslims, gangstas, Latinos, Christians, Italians, Irish and more....so scuffles, death stares, dodgy dealings and shady agreements are never far away.<br /><br />I would say the main appeal of the show is due to the fact that it goes where other shows wouldn't dare. Forget pretty pictures painted for mainstream audiences, forget charm, forget romance...OZ doesn't mess around. The first episode I ever saw struck me as so nasty it was surreal, I couldn't say I was ready for it, but as I watched more, I developed a taste for Oz, and got accustomed to the high levels of graphic violence. Not just violence, but injustice (crooked guards who'll be sold out for a nickel, inmates who'll kill on order and get away with it, well mannered, middle class inmates being turned into prison bitches due to their lack of street skills or prison experience) Watching Oz, you may become comfortable with what is uncomfortable viewing....thats if you can get in touch with your darker side.\""
      ]
     },
     "execution_count": 50,
     "metadata": {},
     "output_type": "execute_result"
    }
   ],
   "source": [
    "sample_text = dataset['review'][0]\n",
    "\n",
    "print(\"Sample review text: \\n\")\n",
    "sample_text"
   ]
  },
  {
   "cell_type": "code",
   "execution_count": 51,
   "metadata": {
    "id": "7zFVNVotM90u"
   },
   "outputs": [
    {
     "name": "stdout",
     "output_type": "stream",
     "text": [
      "Cleaned sample review text: \n",
      "\n"
     ]
    },
    {
     "data": {
      "text/plain": [
       "\"One reviewers mentioned watching 1 Oz episode hooked. right, exactly happened me.<br /><br />The first thing struck Oz brutality unflinching scenes violence, set right word GO. Trust me, show faint hearted timid. show pulls punches regards drugs, sex violence. hardcore, classic use word.<br /><br />It called OZ nickname given Oswald Maximum Security State Penitentary. focuses mainly Emerald City, experimental section prison cells glass fronts face inwards, privacy high agenda. Em City home many..Aryans, Muslims, gangstas, Latinos, Christians, Italians, Irish more....so scuffles, death stares, dodgy dealings shady agreements never far away.<br /><br />I would say main appeal show due fact goes shows dare. Forget pretty pictures painted mainstream audiences, forget charm, forget romance...OZ mess around. first episode ever saw struck nasty surreal, say ready it, watched more, developed taste Oz, got accustomed high levels graphic violence. violence, injustice (crooked guards who'll sold nickel, inmates who'll kill order get away it, well mannered, middle class inmates turned prison bitches due lack street skills prison experience) Watching Oz, may become comfortable uncomfortable viewing....thats get touch darker side.\""
      ]
     },
     "execution_count": 51,
     "metadata": {},
     "output_type": "execute_result"
    }
   ],
   "source": [
    "sample_text = remove_stopwords(sample_text)\n",
    "\n",
    "print(\"Cleaned sample review text: \\n\")\n",
    "sample_text"
   ]
  },
  {
   "cell_type": "markdown",
   "metadata": {
    "id": "onlQqa2ejj8K"
   },
   "source": [
    "### **Spelling Correction Function**"
   ]
  },
  {
   "cell_type": "code",
   "execution_count": 52,
   "metadata": {
    "id": "-dhtuYwDlp-h"
   },
   "outputs": [],
   "source": [
    "# Initialize the spell checkers\n",
    "spell_checker = SpellChecker()\n",
    "spell_autocorrect = Speller(lang='en')"
   ]
  },
  {
   "cell_type": "code",
   "execution_count": 53,
   "metadata": {
    "id": "5VOSD-tjeMba"
   },
   "outputs": [],
   "source": [
    "def spell_correction(text):\n",
    "    \"\"\"\n",
    "    Perform spell check on the given text and return the corrected text along with the list of incorrect words.\n",
    "\n",
    "    Args:\n",
    "    - text (str): The text to spell check.\n",
    "\n",
    "    Returns:\n",
    "    - tuple: A tuple containing the corrected text and a list of incorrect words.\n",
    "    \"\"\"\n",
    "    \n",
    "    if not text or text.strip() == '':\n",
    "        return text\n",
    "\n",
    "    # Process a text string such that no character appears more than twice consecutively\n",
    "    text = ''.join(''.join(s)[:2] for _, s in itertools.groupby(text))\n",
    "\n",
    "    # Tokenize the standardized text\n",
    "    words = text.split()\n",
    "\n",
    "    # Find misspelled words\n",
    "    misspelled = spell_checker.unknown(words)\n",
    "\n",
    "    # Correct misspelled words 1\n",
    "    corrected_words = [spell_checker.correction(word) if word in misspelled else word for word in words]\n",
    "\n",
    "    # Correct misspelled words 2\n",
    "    corrected_words = [word if word is not None else word for word in corrected_words]\n",
    "    corrected_words = [spell_autocorrect.autocorrect_word(word) if word is not None else \"\" for word in corrected_words]\n",
    "    corrected_text = ' '.join(corrected_words)\n",
    "\n",
    "    return corrected_text"
   ]
  },
  {
   "cell_type": "code",
   "execution_count": 54,
   "metadata": {
    "id": "sW_5P_NtjNKG"
   },
   "outputs": [
    {
     "name": "stdout",
     "output_type": "stream",
     "text": [
      "Sample review text: \n",
      "\n"
     ]
    },
    {
     "data": {
      "text/plain": [
       "'Thiss isss a smaple textt withh severall typoos andd incorrcet speling. Somee words have too manyy repeeatedd leetters. It shoulldd be corected byy the funtion.'"
      ]
     },
     "execution_count": 54,
     "metadata": {},
     "output_type": "execute_result"
    }
   ],
   "source": [
    "sample_text = \"Thiss isss a smaple textt withh severall typoos andd incorrcet speling. Somee words have too manyy repeeatedd leetters. It shoulldd be corected byy the funtion.\"\n",
    "\n",
    "print(\"Sample review text: \\n\")\n",
    "sample_text"
   ]
  },
  {
   "cell_type": "code",
   "execution_count": 55,
   "metadata": {
    "id": "tkr63cwcfzXS"
   },
   "outputs": [
    {
     "name": "stdout",
     "output_type": "stream",
     "text": [
      "Cleaned sample review text: \n",
      "\n"
     ]
    },
    {
     "data": {
      "text/plain": [
       "'This is a sample text with several typos and incorrect spelling Some words have too many repeated letters It should be corrected by the function'"
      ]
     },
     "execution_count": 55,
     "metadata": {},
     "output_type": "execute_result"
    }
   ],
   "source": [
    "sample_text = spell_correction(sample_text)\n",
    "\n",
    "print(\"Cleaned sample review text: \\n\")\n",
    "sample_text"
   ]
  },
  {
   "cell_type": "markdown",
   "metadata": {
    "id": "Aen4gA5ylvGy"
   },
   "source": [
    "### **Lemmatization Function**"
   ]
  },
  {
   "cell_type": "code",
   "execution_count": 56,
   "metadata": {
    "id": "2HTnim_nllSA"
   },
   "outputs": [
    {
     "name": "stderr",
     "output_type": "stream",
     "text": [
      "[nltk_data] Downloading package wordnet to\n",
      "[nltk_data]     C:\\Users\\glows\\AppData\\Roaming\\nltk_data...\n",
      "[nltk_data]   Package wordnet is already up-to-date!\n"
     ]
    }
   ],
   "source": [
    "nltk.download('wordnet')\n",
    "lemmatizer = WordNetLemmatizer()"
   ]
  },
  {
   "cell_type": "code",
   "execution_count": 57,
   "metadata": {
    "id": "WI90G2-3lekd"
   },
   "outputs": [],
   "source": [
    "def lemmatize_words(text):\n",
    "\n",
    "    words = word_tokenize(text)\n",
    "    lemmatized_words = [lemmatizer.lemmatize(word) for word in words]\n",
    "    lemmatized_text = ' '.join(lemmatized_words)\n",
    "\n",
    "    return lemmatized_text"
   ]
  },
  {
   "cell_type": "code",
   "execution_count": 58,
   "metadata": {
    "id": "Gz_zYPF_mOgo"
   },
   "outputs": [
    {
     "name": "stdout",
     "output_type": "stream",
     "text": [
      "Sample review text: \n",
      "\n"
     ]
    },
    {
     "data": {
      "text/plain": [
       "\"One of the other reviewers has mentioned that after watching just 1 Oz episode you'll be hooked. They are right, as this is exactly what happened with me.<br /><br />The first thing that struck me about Oz was its brutality and unflinching scenes of violence, which set in right from the word GO. Trust me, this is not a show for the faint hearted or timid. This show pulls no punches with regards to drugs, sex or violence. Its is hardcore, in the classic use of the word.<br /><br />It is called OZ as that is the nickname given to the Oswald Maximum Security State Penitentary. It focuses mainly on Emerald City, an experimental section of the prison where all the cells have glass fronts and face inwards, so privacy is not high on the agenda. Em City is home to many..Aryans, Muslims, gangstas, Latinos, Christians, Italians, Irish and more....so scuffles, death stares, dodgy dealings and shady agreements are never far away.<br /><br />I would say the main appeal of the show is due to the fact that it goes where other shows wouldn't dare. Forget pretty pictures painted for mainstream audiences, forget charm, forget romance...OZ doesn't mess around. The first episode I ever saw struck me as so nasty it was surreal, I couldn't say I was ready for it, but as I watched more, I developed a taste for Oz, and got accustomed to the high levels of graphic violence. Not just violence, but injustice (crooked guards who'll be sold out for a nickel, inmates who'll kill on order and get away with it, well mannered, middle class inmates being turned into prison bitches due to their lack of street skills or prison experience) Watching Oz, you may become comfortable with what is uncomfortable viewing....thats if you can get in touch with your darker side.\""
      ]
     },
     "execution_count": 58,
     "metadata": {},
     "output_type": "execute_result"
    }
   ],
   "source": [
    "sample_text = dataset['review'][0]\n",
    "# sample_text = \"The striped bats are hanging on their feet for best\"\n",
    "\n",
    "print(\"Sample review text: \\n\")\n",
    "sample_text"
   ]
  },
  {
   "cell_type": "code",
   "execution_count": 59,
   "metadata": {
    "id": "OLVdPEJemOjf"
   },
   "outputs": [
    {
     "name": "stdout",
     "output_type": "stream",
     "text": [
      "Cleaned sample review text: \n",
      "\n"
     ]
    },
    {
     "data": {
      "text/plain": [
       "\"One of the other reviewer ha mentioned that after watching just 1 Oz episode you 'll be hooked . They are right , a this is exactly what happened with me. < br / > < br / > The first thing that struck me about Oz wa it brutality and unflinching scene of violence , which set in right from the word GO . Trust me , this is not a show for the faint hearted or timid . This show pull no punch with regard to drug , sex or violence . Its is hardcore , in the classic use of the word. < br / > < br / > It is called OZ a that is the nickname given to the Oswald Maximum Security State Penitentary . It focus mainly on Emerald City , an experimental section of the prison where all the cell have glass front and face inwards , so privacy is not high on the agenda . Em City is home to many .. Aryans , Muslims , gangsta , Latinos , Christians , Italians , Irish and more .... so scuffle , death stare , dodgy dealing and shady agreement are never far away. < br / > < br / > I would say the main appeal of the show is due to the fact that it go where other show would n't dare . Forget pretty picture painted for mainstream audience , forget charm , forget romance ... OZ doe n't mess around . The first episode I ever saw struck me a so nasty it wa surreal , I could n't say I wa ready for it , but a I watched more , I developed a taste for Oz , and got accustomed to the high level of graphic violence . Not just violence , but injustice ( crooked guard who 'll be sold out for a nickel , inmate who 'll kill on order and get away with it , well mannered , middle class inmate being turned into prison bitch due to their lack of street skill or prison experience ) Watching Oz , you may become comfortable with what is uncomfortable viewing .... thats if you can get in touch with your darker side .\""
      ]
     },
     "execution_count": 59,
     "metadata": {},
     "output_type": "execute_result"
    }
   ],
   "source": [
    "sample_text = lemmatize_words(sample_text)\n",
    "\n",
    "print(\"Cleaned sample review text: \\n\")\n",
    "sample_text"
   ]
  },
  {
   "cell_type": "markdown",
   "metadata": {},
   "source": [
    "### **Text Preprocessing Function**"
   ]
  },
  {
   "cell_type": "code",
   "execution_count": 60,
   "metadata": {},
   "outputs": [],
   "source": [
    "def text_preprocessing(text):\n",
    "    \"\"\"\n",
    "    Perform a series of text preprocessing steps on the input text.\n",
    "\n",
    "    The function applies the following steps:\n",
    "    1. Lowercase the text.\n",
    "    2. Remove emojis.\n",
    "    3. Remove emoticons.\n",
    "    4. Remove URLs.\n",
    "    5. Remove email addresses.\n",
    "    6. Remove HTML tags.\n",
    "    7. Remove non-ASCII characters.\n",
    "    8. Remove punctuation and special characters.\n",
    "    9. Remove numbers.\n",
    "    10. Remove chat words.\n",
    "    11. Remove extra spaces.\n",
    "    12. Remove stopwords.\n",
    "    13. Correct spelling.\n",
    "    14. Lemmatize words.\n",
    "\n",
    "    Args:\n",
    "    - text (str): The text to preprocess.\n",
    "\n",
    "    Returns:\n",
    "    - str: The preprocessed text.\n",
    "    \"\"\"\n",
    "\n",
    "    # Convert text to lowercase\n",
    "    text = lowercase_text(text)\n",
    "\n",
    "    # Remove emojis\n",
    "    text = remove_emojis(text)\n",
    "\n",
    "    # Remove emoticons\n",
    "    text = remove_emoticons(text)\n",
    "\n",
    "    # Remove URLs\n",
    "    text = remove_urls(text)\n",
    "\n",
    "    # Remove email addresses\n",
    "    text = remove_emails(text)\n",
    "\n",
    "    # Remove HTML tags\n",
    "    text = remove_html_tags(text)\n",
    "\n",
    "    # Remove non-ASCII characters\n",
    "    text = remove_non_ascii(text)\n",
    "\n",
    "    # Remove punctuation and special characters\n",
    "    text = remove_punctuation_and_special_characters(text)\n",
    "\n",
    "    # Remove numbers\n",
    "    text = remove_numbers(text)\n",
    "\n",
    "    # Remove chat words\n",
    "    text = remove_chat_words(text)\n",
    "\n",
    "    # Remove extra spaces\n",
    "    text = remove_extra_spaces(text)\n",
    "\n",
    "    # Remove stopwords\n",
    "    text = remove_stopwords(text)\n",
    "\n",
    "    # Correct spelling\n",
    "    text = spell_correction(text)\n",
    "\n",
    "    # Lemmatize words\n",
    "    text = lemmatize_words(text)\n",
    "    \n",
    "    return text\n",
    "    "
   ]
  },
  {
   "cell_type": "code",
   "execution_count": 61,
   "metadata": {},
   "outputs": [
    {
     "name": "stdout",
     "output_type": "stream",
     "text": [
      "Sample review text: \n",
      "\n"
     ]
    },
    {
     "data": {
      "text/plain": [
       "'A wonderful little production. <br /><br />The filming technique is very unassuming- very old-time-BBC fashion and gives a comforting, and sometimes discomforting, sense of realism to the entire piece. <br /><br />The actors are extremely well chosen- Michael Sheen not only \"has got all the polari\" but he has all the voices down pat too! You can truly see the seamless editing guided by the references to Williams\\' diary entries, not only is it well worth the watching but it is a terrificly written and performed piece. A masterful production about one of the great master\\'s of comedy and his life. <br /><br />The realism really comes home with the little things: the fantasy of the guard which, rather than use the traditional \\'dream\\' techniques remains solid then disappears. It plays on our knowledge and our senses, particularly with the scenes concerning Orton and Halliwell and the sets (particularly of their flat with Halliwell\\'s murals decorating every surface) are terribly well done.'"
      ]
     },
     "execution_count": 61,
     "metadata": {},
     "output_type": "execute_result"
    }
   ],
   "source": [
    "sample_text = dataset['review'][1]\n",
    "# sample_text = \"The striped bats are hanging on their feet for best\"\n",
    "\n",
    "print(\"Sample review text: \\n\")\n",
    "sample_text"
   ]
  },
  {
   "cell_type": "code",
   "execution_count": 62,
   "metadata": {},
   "outputs": [
    {
     "name": "stdout",
     "output_type": "stream",
     "text": [
      "Cleaned sample review text: \n",
      "\n"
     ]
    },
    {
     "data": {
      "text/plain": [
       "'wonderful little production filming technique assuming old time be fashion give conforming sometimes discomforting sense realism entire piece actor extremely well chosen sheen got polar voice pat truly see seamless editing guided reference willie diary entry well worth watching terrific written performed piece masterful production one great master comedy life realism really come home little thing fantasy guard rather use traditional dream technique remains solid disappears play knowledge sens particularly scene concerning often set particularly flat mural decorating every surface terribly well done'"
      ]
     },
     "execution_count": 62,
     "metadata": {},
     "output_type": "execute_result"
    }
   ],
   "source": [
    "sample_text = text_preprocessing(sample_text)\n",
    "\n",
    "print(\"Cleaned sample review text: \\n\")\n",
    "sample_text"
   ]
  },
  {
   "cell_type": "code",
   "execution_count": 7,
   "metadata": {},
   "outputs": [
    {
     "ename": "NameError",
     "evalue": "name 'text_preprocessing' is not defined",
     "output_type": "error",
     "traceback": [
      "\u001b[1;31m---------------------------------------------------------------------------\u001b[0m",
      "\u001b[1;31mNameError\u001b[0m                                 Traceback (most recent call last)",
      "Cell \u001b[1;32mIn[7], line 2\u001b[0m\n\u001b[0;32m      1\u001b[0m \u001b[38;5;66;03m# Apply the text_preprocessing function to the X column\u001b[39;00m\n\u001b[1;32m----> 2\u001b[0m X_cleaned \u001b[38;5;241m=\u001b[39m dataset_subset[\u001b[38;5;124m'\u001b[39m\u001b[38;5;124mreview\u001b[39m\u001b[38;5;124m'\u001b[39m]\u001b[38;5;241m.\u001b[39mapply(text_preprocessing)\n\u001b[0;32m      4\u001b[0m \u001b[38;5;66;03m# Print a sample of the cleaned review text\u001b[39;00m\n\u001b[0;32m      5\u001b[0m \u001b[38;5;28mprint\u001b[39m(\u001b[38;5;124m\"\u001b[39m\u001b[38;5;124mCleaned sample review text: \u001b[39m\u001b[38;5;130;01m\\n\u001b[39;00m\u001b[38;5;124m\"\u001b[39m, X_cleaned\u001b[38;5;241m.\u001b[39mhead(\u001b[38;5;241m1\u001b[39m))\n",
      "\u001b[1;31mNameError\u001b[0m: name 'text_preprocessing' is not defined"
     ]
    }
   ],
   "source": [
    "# Apply the text_preprocessing function to the X column\n",
    "X_cleaned = dataset_subset['review'].apply(text_preprocessing)\n",
    "\n",
    "# Print a sample of the cleaned review text\n",
    "print(\"Cleaned sample review text: \\n\", X_cleaned.head(1))"
   ]
  },
  {
   "cell_type": "code",
   "execution_count": null,
   "metadata": {},
   "outputs": [],
   "source": []
  },
  {
   "cell_type": "code",
   "execution_count": null,
   "metadata": {},
   "outputs": [],
   "source": [
    "X = X_cleaned\n",
    "y = dataset_subset['sentiment']"
   ]
  },
  {
   "cell_type": "code",
   "execution_count": null,
   "metadata": {},
   "outputs": [],
   "source": []
  },
  {
   "cell_type": "code",
   "execution_count": null,
   "metadata": {},
   "outputs": [],
   "source": []
  },
  {
   "cell_type": "code",
   "execution_count": null,
   "metadata": {
    "id": "xn2oPnK5eMe2"
   },
   "outputs": [],
   "source": [
    "#     # # Standardize the text first\n",
    "#     text = lowercase_text(text)\n",
    "#     text = remove_html_tags(text)\n",
    "#     text = remove_urls(text)\n",
    "#     text = remove_emails(text)\n",
    "#     text = remove_non_ascii(text)\n",
    "#     text = remove_punctuation_and_special_characters(text)\n",
    "#     text = remove_numbers(text)\n",
    "#     # text = remove_quotation_marks(text)\n",
    "#     text = remove_extra_spaces(text)\n",
    "\n",
    "# Lower casing\n",
    "# Removal of emojis\n",
    "# Removal of emoticons\n",
    "# Removal of URLs\n",
    "# Removal of Emails\n",
    "# Removal of HTML tags\n",
    "# Removal of Non-Ascii Characters\n",
    "# Removal of Punctuations & Special Characters\n",
    "# Removal of Numbers\n",
    "# Removal of Chat Words\n",
    "# Removal of Stopwords\n",
    "# Spelling Correction"
   ]
  }
 ],
 "metadata": {
  "colab": {
   "provenance": []
  },
  "kernelspec": {
   "display_name": "Python 3 (ipykernel)",
   "language": "python",
   "name": "python3"
  },
  "language_info": {
   "codemirror_mode": {
    "name": "ipython",
    "version": 3
   },
   "file_extension": ".py",
   "mimetype": "text/x-python",
   "name": "python",
   "nbconvert_exporter": "python",
   "pygments_lexer": "ipython3",
   "version": "3.11.3"
  }
 },
 "nbformat": 4,
 "nbformat_minor": 1
}
